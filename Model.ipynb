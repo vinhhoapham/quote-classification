{
  "cells": [
    {
      "cell_type": "code",
      "execution_count": null,
      "metadata": {
        "colab": {
          "base_uri": "https://localhost:8080/"
        },
        "id": "oEMEV5yQgDTU",
        "outputId": "a0f95828-4b64-4efe-b2e2-59847b823f8e"
      },
      "outputs": [
        {
          "output_type": "stream",
          "name": "stdout",
          "text": [
            "Mounted at /content/drive\n"
          ]
        }
      ],
      "source": [
        "from google.colab import drive\n",
        "drive.mount('/content/drive')"
      ]
    },
    {
      "cell_type": "code",
      "execution_count": null,
      "metadata": {
        "id": "UfIo0uNhcKEZ"
      },
      "outputs": [],
      "source": [
        "import numpy as np\n",
        "import torch\n",
        "\n",
        "device = torch.device(\n",
        "    'cuda' if torch.cuda.is_available() else\n",
        "    'mps' if torch.backends.mps.is_available() else\n",
        "    'cpu'\n",
        ")\n"
      ]
    },
    {
      "cell_type": "markdown",
      "metadata": {
        "id": "dr54eszRgAX7"
      },
      "source": [
        "# Load the data and some processing"
      ]
    },
    {
      "cell_type": "markdown",
      "metadata": {
        "id": "_4OzhaZE0lRh"
      },
      "source": [
        "## Custom Dataset Implementation"
      ]
    },
    {
      "cell_type": "code",
      "execution_count": null,
      "metadata": {
        "colab": {
          "base_uri": "https://localhost:8080/"
        },
        "id": "xb--gtI1cKEa",
        "outputId": "8c666259-9d00-4702-a4ac-eb20874f6e5c"
      },
      "outputs": [
        {
          "output_type": "stream",
          "name": "stderr",
          "text": [
            "[nltk_data] Downloading package punkt to /root/nltk_data...\n",
            "[nltk_data]   Unzipping tokenizers/punkt.zip.\n",
            ".vector_cache/glove.twitter.27B.zip: 1.52GB [07:10, 3.53MB/s]                            \n",
            "100%|█████████▉| 1193513/1193514 [00:31<00:00, 37423.07it/s]\n"
          ]
        }
      ],
      "source": [
        "from torch.utils.data import Dataset\n",
        "from torchtext.vocab import GloVe\n",
        "import torchtext\n",
        "from torchtext.functional import to_tensor\n",
        "from nltk import word_tokenize, download\n",
        "from random import sample\n",
        "\n",
        "download('punkt')\n",
        "\n",
        "embed_size = 50\n",
        "embedder = GloVe(name=\"twitter.27B\", dim=embed_size)\n",
        "\n",
        "def tokenize(quote, word_embedder):\n",
        "  tokens = word_tokenize(quote)\n",
        "  tokens = torch.stack([word_embedder[word] for word in tokens]).to(device)\n",
        "  return tokens\n",
        "\n",
        "def swap_keys_values(d):\n",
        "    return {value: key for key, value in d.items()}\n",
        "\n",
        "class QuotesDateset(Dataset):\n",
        "\n",
        "    data = []\n",
        "    category_to_idx = dict()\n",
        "    idx_to_category = dict()\n",
        "\n",
        "    def _load_data(self, path_to_data):\n",
        "\n",
        "        for path_to_category in path_to_data.glob('*.txt'):\n",
        "            category = path_to_category.stem\n",
        "            with path_to_category.open(\"r\") as file_handler:\n",
        "                data_from_file = file_handler.read().splitlines()\n",
        "            self.data.extend([[quote.lower(), category] for quote in data_from_file])\n",
        "\n",
        "        categories = set([category for _, category in self.data])\n",
        "        self.category_to_idx = {category: index for index, category in enumerate(categories)}\n",
        "        self.idx_to_category = swap_keys_values(self.category_to_idx)\n",
        "\n",
        "    def tokenized(self, word_embedder):\n",
        "        self.quotes = []\n",
        "        self.categories = []\n",
        "        tokenized_quotes = dict()\n",
        "        number_of_multiple_quotes = 0\n",
        "        for quote, category in self.data:\n",
        "          category_index = self.category_to_idx[category]\n",
        "          if quote not in tokenized_quotes:\n",
        "            tokenized_quotes[quote] = len(tokenized_quotes)\n",
        "            one_hot_category = torch.zeros(len(self.category_to_idx)).to(device)\n",
        "            one_hot_category[category_index] = 1\n",
        "            self.quotes.append(tokenize(quote, word_embedder))\n",
        "            self.categories.append(one_hot_category)\n",
        "          else:\n",
        "            number_of_multiple_quotes += 1\n",
        "            self.categories[tokenized_quotes[quote]][category_index] = 1\n",
        "        self.tokenized_quotes = tokenized_quotes\n",
        "        self.index_tokenized_quotes = swap_keys_values(self.tokenized_quotes)\n",
        "        print(f\"Number of quotes with multiple categories / total data: {number_of_multiple_quotes}/{len(self.data)}\")\n",
        "\n",
        "    def __init__(self, path_to_data):\n",
        "        self._load_data(path_to_data)\n",
        "\n",
        "    def __len__(self):\n",
        "        return len(self.quotes)\n",
        "\n",
        "    def __getitem__(self, idx):\n",
        "        return self.quotes[idx], self.categories[idx]\n",
        "\n",
        "    def __repr__(self):\n",
        "        return self.__str__()\n",
        "\n",
        "    def __str__(self):\n",
        "        display_str = \"\"\n",
        "\n",
        "        for quote, category in sample(self.data, 4):\n",
        "            display_str += f\"{category}: {quote}\\n\"\n",
        "\n",
        "        display_str += f\"\\nThis dataset has {len(self.quotes)} quotes\"\n",
        "        return display_str\n",
        "\n"
      ]
    },
    {
      "cell_type": "markdown",
      "metadata": {
        "id": "ZBnErnlZ0pg3"
      },
      "source": [
        "## Load the dataset"
      ]
    },
    {
      "cell_type": "code",
      "execution_count": null,
      "metadata": {
        "colab": {
          "base_uri": "https://localhost:8080/"
        },
        "id": "9_PCEnjD0gfj",
        "outputId": "173b3dfd-05cd-4b97-c6d0-26f41245b8c6"
      },
      "outputs": [
        {
          "output_type": "stream",
          "name": "stdout",
          "text": [
            "Number of quotes with multiple categories / total data: 12564/76511\n",
            "happiness: “the universe doesn't give you what you want in your mind; it gives you what you demand with your actions.”\n",
            "inspirational: “even if you have been through a painful past, do not dwell on that. what matters is that you are still alive. bank on that and make your life count.”\n",
            "inspirational: “because when we give too many fucks, when we choose to give a fuck about everything, then we feel as though we are perpetually entitled to feel comfortable and happy at all times, that’s when life fucks us.”\n",
            "science: “no one will protect what they don't care about; and no one will care about what they have never experiened”\n",
            "\n",
            "This dataset has 63947 quotes\n"
          ]
        }
      ],
      "source": [
        "from pathlib import Path\n",
        "\n",
        "path_to_data = Path('drive/MyDrive/quotes')\n",
        "dataset = QuotesDateset(path_to_data)\n",
        "\n",
        "dataset.tokenized(embedder)\n",
        "\n",
        "\n",
        "print(dataset)"
      ]
    },
    {
      "cell_type": "code",
      "execution_count": null,
      "metadata": {
        "id": "0hxGBj-YcoCb"
      },
      "outputs": [],
      "source": [
        "# Check if len of quotes == categories\n",
        "assert len(dataset.quotes) == len(dataset.categories), \"Quotes should equal to categories\""
      ]
    },
    {
      "cell_type": "markdown",
      "metadata": {
        "id": "oId5kRAL0yxz"
      },
      "source": [
        "## Splitting"
      ]
    },
    {
      "cell_type": "code",
      "execution_count": null,
      "metadata": {
        "id": "Cg8eZJBC0vQE"
      },
      "outputs": [],
      "source": [
        "from torch.utils.data import DataLoader, random_split\n",
        "from torch.nn.utils.rnn import pad_sequence\n",
        "\n",
        "def collate_fn(batch):\n",
        "    sequences, labels = zip(*batch)\n",
        "    truncated_sequences = [seq[:1000] if seq.size(0) > 1000 else seq for seq in sequences]\n",
        "    padded_sequences = pad_sequence(truncated_sequences, batch_first=True)\n",
        "    return padded_sequences, torch.stack(labels)\n",
        "\n",
        "batch_size = 64\n",
        "\n",
        "# Split the dataset into training, validation, and test sets\n",
        "num_train = int(len(dataset) * 0.8)\n",
        "num_val = int(len(dataset) * 0.1)\n",
        "num_test = len(dataset)  - num_train - num_val\n",
        "\n",
        "train_data, val_data ,test_data = random_split(dataset, [num_train, num_val, num_test])\n",
        "# Create a DataLoader for each set\n",
        "train_loader = DataLoader(train_data, batch_size=batch_size, shuffle=True, collate_fn=collate_fn)\n",
        "val_loader = DataLoader(val_data, batch_size = batch_size, shuffle=False, collate_fn=collate_fn)\n",
        "test_loader = DataLoader(test_data, batch_size=batch_size, shuffle=False,collate_fn=collate_fn)\n"
      ]
    },
    {
      "cell_type": "markdown",
      "metadata": {
        "id": "XdJXCckXgAX8"
      },
      "source": [
        "# EDA"
      ]
    },
    {
      "cell_type": "code",
      "execution_count": null,
      "metadata": {
        "colab": {
          "base_uri": "https://localhost:8080/",
          "height": 1000
        },
        "id": "In7hOJO4ZxlX",
        "outputId": "7f7daaf7-605e-4ad8-bdc6-e85cc615d897"
      },
      "outputs": [
        {
          "output_type": "display_data",
          "data": {
            "text/plain": [
              "<Figure size 640x480 with 1 Axes>"
            ],
            "image/png": "[encoded data removed]"
          },
          "metadata": {}
        },
        {
          "output_type": "display_data",
          "data": {
            "text/plain": [
              "<Figure size 640x480 with 1 Axes>"
            ],
            "image/png": "[encoded data removed]"
          },
          "metadata": {}
        }
      ],
      "source": [
        "import matplotlib.pyplot as plt\n",
        "import seaborn as sns\n",
        "import pandas as pd\n",
        "\n",
        "quote_length = [(len(quote.split()), category) for quote, category in dataset.data]\n",
        "lengths, categories = zip(*quote_length)\n",
        "\n",
        "df = pd.DataFrame({'Category': categories, 'Length': lengths})\n",
        "df.dropna(inplace=True)\n",
        "sns.boxplot(x=df['Category'], y=df['Length'])\n",
        "plt.xticks(rotation=45)\n",
        "plt.title(\"Sequence legnth for each category\")\n",
        "\n",
        "plt.show()\n",
        "sns.histplot(df['Category'])\n",
        "plt.xticks(rotation=45)\n",
        "plt.title(\"Category distribution\")\n",
        "plt.show()"
      ]
    },
    {
      "cell_type": "markdown",
      "metadata": {
        "id": "fmFdmK6SgAX9"
      },
      "source": [
        "## Count unique words in each set"
      ]
    },
    {
      "cell_type": "code",
      "execution_count": null,
      "metadata": {
        "colab": {
          "base_uri": "https://localhost:8080/",
          "height": 175
        },
        "id": "SXEYGuaNgAX9",
        "outputId": "fd678632-9cc9-4cc7-b93e-dd7d943ba37d"
      },
      "outputs": [
        {
          "output_type": "execute_result",
          "data": {
            "text/plain": [
              "          original  train    val   test\n",
              "original         0      0      0      0\n",
              "train        15848      0   8116   8102\n",
              "val          97024  89292      0  17234\n",
              "test         97290  89544  17500      0"
            ],
            "text/html": [
              "\n",
              "  <div id=\"df-e40290cc-9270-4fb0-8155-1df42f7bdd07\" class=\"colab-df-container\">\n",
              "    <div>\n",
              "<style scoped>\n",
              "    .dataframe tbody tr th:only-of-type {\n",
              "        vertical-align: middle;\n",
              "    }\n",
              "\n",
              "    .dataframe tbody tr th {\n",
              "        vertical-align: top;\n",
              "    }\n",
              "\n",
              "    .dataframe thead th {\n",
              "        text-align: right;\n",
              "    }\n",
              "</style>\n",
              "<table border=\"1\" class=\"dataframe\">\n",
              "  <thead>\n",
              "    <tr style=\"text-align: right;\">\n",
              "      <th></th>\n",
              "      <th>original</th>\n",
              "      <th>train</th>\n",
              "      <th>val</th>\n",
              "      <th>test</th>\n",
              "    </tr>\n",
              "  </thead>\n",
              "  <tbody>\n",
              "    <tr>\n",
              "      <th>original</th>\n",
              "      <td>0</td>\n",
              "      <td>0</td>\n",
              "      <td>0</td>\n",
              "      <td>0</td>\n",
              "    </tr>\n",
              "    <tr>\n",
              "      <th>train</th>\n",
              "      <td>15848</td>\n",
              "      <td>0</td>\n",
              "      <td>8116</td>\n",
              "      <td>8102</td>\n",
              "    </tr>\n",
              "    <tr>\n",
              "      <th>val</th>\n",
              "      <td>97024</td>\n",
              "      <td>89292</td>\n",
              "      <td>0</td>\n",
              "      <td>17234</td>\n",
              "    </tr>\n",
              "    <tr>\n",
              "      <th>test</th>\n",
              "      <td>97290</td>\n",
              "      <td>89544</td>\n",
              "      <td>17500</td>\n",
              "      <td>0</td>\n",
              "    </tr>\n",
              "  </tbody>\n",
              "</table>\n",
              "</div>\n",
              "    <div class=\"colab-df-buttons\">\n",
              "\n",
              "  <div class=\"colab-df-container\">\n",
              "    <button class=\"colab-df-convert\" onclick=\"convertToInteractive('df-e40290cc-9270-4fb0-8155-1df42f7bdd07')\"\n",
              "            title=\"Convert this dataframe to an interactive table.\"\n",
              "            style=\"display:none;\">\n",
              "\n",
              "  <svg xmlns=\"http://www.w3.org/2000/svg\" height=\"24px\" viewBox=\"0 -960 960 960\">\n",
              "    <path d=\"M120-120v-720h720v720H120Zm60-500h600v-160H180v160Zm220 220h160v-160H400v160Zm0 220h160v-160H400v160ZM180-400h160v-160H180v160Zm440 0h160v-160H620v160ZM180-180h160v-160H180v160Zm440 0h160v-160H620v160Z\"/>\n",
              "  </svg>\n",
              "    </button>\n",
              "\n",
              "  <style>\n",
              "    .colab-df-container {\n",
              "      display:flex;\n",
              "      gap: 12px;\n",
              "    }\n",
              "\n",
              "    .colab-df-convert {\n",
              "      background-color: #E8F0FE;\n",
              "      border: none;\n",
              "      border-radius: 50%;\n",
              "      cursor: pointer;\n",
              "      display: none;\n",
              "      fill: #1967D2;\n",
              "      height: 32px;\n",
              "      padding: 0 0 0 0;\n",
              "      width: 32px;\n",
              "    }\n",
              "\n",
              "    .colab-df-convert:hover {\n",
              "      background-color: #E2EBFA;\n",
              "      box-shadow: 0px 1px 2px rgba(60, 64, 67, 0.3), 0px 1px 3px 1px rgba(60, 64, 67, 0.15);\n",
              "      fill: #174EA6;\n",
              "    }\n",
              "\n",
              "    .colab-df-buttons div {\n",
              "      margin-bottom: 4px;\n",
              "    }\n",
              "\n",
              "    [theme=dark] .colab-df-convert {\n",
              "      background-color: #3B4455;\n",
              "      fill: #D2E3FC;\n",
              "    }\n",
              "\n",
              "    [theme=dark] .colab-df-convert:hover {\n",
              "      background-color: #434B5C;\n",
              "      box-shadow: 0px 1px 3px 1px rgba(0, 0, 0, 0.15);\n",
              "      filter: drop-shadow(0px 1px 2px rgba(0, 0, 0, 0.3));\n",
              "      fill: #FFFFFF;\n",
              "    }\n",
              "  </style>\n",
              "\n",
              "    <script>\n",
              "      const buttonEl =\n",
              "        document.querySelector('#df-e40290cc-9270-4fb0-8155-1df42f7bdd07 button.colab-df-convert');\n",
              "      buttonEl.style.display =\n",
              "        google.colab.kernel.accessAllowed ? 'block' : 'none';\n",
              "\n",
              "      async function convertToInteractive(key) {\n",
              "        const element = document.querySelector('#df-e40290cc-9270-4fb0-8155-1df42f7bdd07');\n",
              "        const dataTable =\n",
              "          await google.colab.kernel.invokeFunction('convertToInteractive',\n",
              "                                                    [key], {});\n",
              "        if (!dataTable) return;\n",
              "\n",
              "        const docLinkHtml = 'Like what you see? Visit the ' +\n",
              "          '<a target=\"_blank\" href=https://colab.research.google.com/notebooks/data_table.ipynb>data table notebook</a>'\n",
              "          + ' to learn more about interactive tables.';\n",
              "        element.innerHTML = '';\n",
              "        dataTable['output_type'] = 'display_data';\n",
              "        await google.colab.output.renderOutput(dataTable, element);\n",
              "        const docLink = document.createElement('div');\n",
              "        docLink.innerHTML = docLinkHtml;\n",
              "        element.appendChild(docLink);\n",
              "      }\n",
              "    </script>\n",
              "  </div>\n",
              "\n",
              "\n",
              "<div id=\"df-1ed7aba7-f981-4465-9aeb-54da4d293588\">\n",
              "  <button class=\"colab-df-quickchart\" onclick=\"quickchart('df-1ed7aba7-f981-4465-9aeb-54da4d293588')\"\n",
              "            title=\"Suggest charts.\"\n",
              "            style=\"display:none;\">\n",
              "\n",
              "<svg xmlns=\"http://www.w3.org/2000/svg\" height=\"24px\"viewBox=\"0 0 24 24\"\n",
              "     width=\"24px\">\n",
              "    <g>\n",
              "        <path d=\"M19 3H5c-1.1 0-2 .9-2 2v14c0 1.1.9 2 2 2h14c1.1 0 2-.9 2-2V5c0-1.1-.9-2-2-2zM9 17H7v-7h2v7zm4 0h-2V7h2v10zm4 0h-2v-4h2v4z\"/>\n",
              "    </g>\n",
              "</svg>\n",
              "  </button>\n",
              "\n",
              "<style>\n",
              "  .colab-df-quickchart {\n",
              "    background-color: #E8F0FE;\n",
              "    border: none;\n",
              "    border-radius: 50%;\n",
              "    cursor: pointer;\n",
              "    display: none;\n",
              "    fill: #1967D2;\n",
              "    height: 32px;\n",
              "    padding: 0 0 0 0;\n",
              "    width: 32px;\n",
              "  }\n",
              "\n",
              "  .colab-df-quickchart:hover {\n",
              "    background-color: #E2EBFA;\n",
              "    box-shadow: 0px 1px 2px rgba(60, 64, 67, 0.3), 0px 1px 3px 1px rgba(60, 64, 67, 0.15);\n",
              "    fill: #174EA6;\n",
              "  }\n",
              "\n",
              "  [theme=dark] .colab-df-quickchart {\n",
              "    background-color: #3B4455;\n",
              "    fill: #D2E3FC;\n",
              "  }\n",
              "\n",
              "  [theme=dark] .colab-df-quickchart:hover {\n",
              "    background-color: #434B5C;\n",
              "    box-shadow: 0px 1px 3px 1px rgba(0, 0, 0, 0.15);\n",
              "    filter: drop-shadow(0px 1px 2px rgba(0, 0, 0, 0.3));\n",
              "    fill: #FFFFFF;\n",
              "  }\n",
              "</style>\n",
              "\n",
              "  <script>\n",
              "    async function quickchart(key) {\n",
              "      const charts = await google.colab.kernel.invokeFunction(\n",
              "          'suggestCharts', [key], {});\n",
              "    }\n",
              "    (() => {\n",
              "      let quickchartButtonEl =\n",
              "        document.querySelector('#df-1ed7aba7-f981-4465-9aeb-54da4d293588 button');\n",
              "      quickchartButtonEl.style.display =\n",
              "        google.colab.kernel.accessAllowed ? 'block' : 'none';\n",
              "    })();\n",
              "  </script>\n",
              "</div>\n",
              "    </div>\n",
              "  </div>\n"
            ]
          },
          "metadata": {},
          "execution_count": 8
        }
      ],
      "source": [
        "def find_vocab(sentences):\n",
        "    return {word for sentence in sentences for word in sentence.split()}\n",
        "\n",
        "def find_vocab_of_subset(data_subset, data_original):\n",
        "    quotes_subset = [data_original.index_tokenized_quotes[index] for index in data_subset.indices]\n",
        "    return find_vocab(quotes_subset)\n",
        "\n",
        "def create_vocab_dict(data_splits, dataset):\n",
        "    vocabs = {}\n",
        "    vocabs['original'] = find_vocab([quote for quote, _ in dataset.data])\n",
        "    for split_name, data_split in data_splits.items():\n",
        "        vocabs[split_name] = find_vocab_of_subset(data_split, dataset)\n",
        "    return vocabs\n",
        "\n",
        "def create_out_of_vocab_dict(vocabs):\n",
        "    out_of_vocab = {subsetA: {subsetB: len(vocabs[subsetA] - vocabs[subsetB]) for subsetB in vocabs} for subsetA in vocabs}\n",
        "    return out_of_vocab\n",
        "\n",
        "data_splits = {\n",
        "    'train': train_data,\n",
        "    'val' : val_data,\n",
        "    'test': test_data\n",
        "}\n",
        "\n",
        "vocabs = create_vocab_dict(data_splits, dataset)\n",
        "out_of_vocab = create_out_of_vocab_dict(vocabs)\n",
        "out_of_vocab_df = pd.DataFrame(out_of_vocab)\n",
        "out_of_vocab_df\n"
      ]
    },
    {
      "cell_type": "markdown",
      "metadata": {
        "id": "0wKUvUtlgAX-"
      },
      "source": [
        "# Model"
      ]
    },
    {
      "cell_type": "code",
      "execution_count": null,
      "metadata": {
        "id": "X08upAj6ZEk1"
      },
      "outputs": [],
      "source": [
        "categories = dataset.category_to_idx.keys()\n",
        "joined_categories = ' '.join(categories)\n",
        "categories_embedding = tokenize(joined_categories, embedder)"
      ]
    },
    {
      "cell_type": "code",
      "execution_count": null,
      "metadata": {
        "id": "zs3-5sn_47OF"
      },
      "outputs": [],
      "source": [
        "import torch\n",
        "import torch.nn as nn"
      ]
    },
    {
      "cell_type": "markdown",
      "metadata": {
        "id": "WIPurmxawoLO"
      },
      "source": [
        "## Implementation of the Models"
      ]
    },
    {
      "cell_type": "markdown",
      "metadata": {
        "id": "Ik0vsEV-w4jp"
      },
      "source": [
        "### Componenets"
      ]
    },
    {
      "cell_type": "code",
      "source": [
        "def batch_dot_product(a, b):\n",
        "  return (a * b).sum(dim = -1)"
      ],
      "metadata": {
        "id": "SDZLqgY6K0OC"
      },
      "execution_count": null,
      "outputs": []
    },
    {
      "cell_type": "markdown",
      "metadata": {
        "id": "W66rM23xwrwI"
      },
      "source": [
        "#### FeedForwardNN"
      ]
    },
    {
      "cell_type": "code",
      "execution_count": null,
      "metadata": {
        "id": "qAbMVtOYSr8X"
      },
      "outputs": [],
      "source": [
        "class FeedForwardNN(nn.Module):\n",
        "  def __init__(self, hidden_size , inter_size):\n",
        "    super(FeedForwardNN, self).__init__()\n",
        "    self.linear1 = nn.Linear(hidden_size, inter_size)\n",
        "    self.activation = nn.GELU()\n",
        "    self.linear2 = nn.Linear(inter_size, hidden_size)\n",
        "\n",
        "  def forward(self, input):\n",
        "    output = self.linear1(input)\n",
        "    output = self.activation(output)\n",
        "    output = self.linear2(output)\n",
        "    return output\n",
        "\n"
      ]
    },
    {
      "cell_type": "markdown",
      "metadata": {
        "id": "mP5WSL1mwwv5"
      },
      "source": [
        "#### Attention Block"
      ]
    },
    {
      "cell_type": "code",
      "execution_count": null,
      "metadata": {
        "id": "bEFGGw2G45sX"
      },
      "outputs": [],
      "source": [
        "class AttentionBlock(nn.Module):\n",
        "  def __init__(self, config):\n",
        "    super(AttentionBlock, self).__init__()\n",
        "    self.attention = nn.MultiheadAttention(\n",
        "        batch_first=True,\n",
        "        embed_dim=config.embed_size,\n",
        "        num_heads=config.num_heads,\n",
        "        vdim=config.context_size,\n",
        "        kdim=config.context_size,\n",
        "        dropout=config.dropout\n",
        "    )\n",
        "    self.ln = nn.LayerNorm(config.embed_size)\n",
        "    self.ffn = FeedForwardNN(config.embed_size, config.hidden_size)\n",
        "\n",
        "  def forward(self, query, context):\n",
        "    attention_output, _  = self.attention(query, context, context)\n",
        "    output = self.ln(attention_output + query)\n",
        "    output = self.ffn(output)\n",
        "    return attention_output + output\n"
      ]
    },
    {
      "cell_type": "markdown",
      "metadata": {
        "id": "dvBfILVIwyjg"
      },
      "source": [
        "### Label Induced Cross Attention"
      ]
    },
    {
      "cell_type": "code",
      "execution_count": null,
      "metadata": {
        "id": "CanIUzqXcKEa"
      },
      "outputs": [],
      "source": [
        "class SequenceCrossAttention(nn.Module):\n",
        "    def __init__(self, config):\n",
        "        super(SequenceCrossAttention, self).__init__()\n",
        "\n",
        "\n",
        "        self.sequence_layer = nn.LSTM(\n",
        "            input_size=config.embed_size,\n",
        "            hidden_size=config.hidden_dim,\n",
        "            num_layers=config.num_layers,\n",
        "            bidirectional=config.bidirectional,\n",
        "            bias=config.bias,\n",
        "            dropout=config.dropout\n",
        "        )\n",
        "\n",
        "        self.ln_sequence = nn.LayerNorm(config.sequence_size)\n",
        "\n",
        "        self.self_attention = AttentionBlock(config.self_attention_config)\n",
        "        self.cross_label_attention = AttentionBlock(config.cross_label_attention_config)\n",
        "        self.labels_induced_attention = AttentionBlock(config.labels_induced_attention_config)\n",
        "        self.label_embeddings_induced = nn.Parameter(config.label_embeddings)\n",
        "        self.label_embeddings_cross = nn.Parameter(config.label_embeddings)\n",
        "        self.sigmoid = nn.Sigmoid()\n",
        "    def forward(self, input):\n",
        "        batch_size = input.size(0)\n",
        "        batched_label_embeddings_induced = self.label_embeddings_induced.unsqueeze(0).expand(batch_size, -1, -1)\n",
        "        batched_label_embeddings_cross = self.label_embeddings_cross.unsqueeze(0).expand(batch_size, -1, -1)\n",
        "        sequence_out, _ = self.sequence_layer(input)\n",
        "        sequence_out = self.ln_sequence(sequence_out)\n",
        "        output = self.self_attention(sequence_out, sequence_out)\n",
        "        output = self.labels_induced_attention(output, batched_label_embeddings_induced)\n",
        "        output = self.cross_label_attention(batched_label_embeddings_cross, output)\n",
        "        output = batch_dot_product(batched_label_embeddings_cross, output)\n",
        "        output = self.sigmoid(output)\n",
        "        return output\n"
      ]
    },
    {
      "cell_type": "markdown",
      "metadata": {
        "id": "u_9M44aJxA93"
      },
      "source": [
        "## Main Model"
      ]
    },
    {
      "cell_type": "code",
      "execution_count": null,
      "metadata": {
        "id": "Xt0NoHQ2yIx0"
      },
      "outputs": [],
      "source": [
        "class AttentionConfig:\n",
        "\n",
        "    def __init__(self, embed_size=512, num_heads=8,\n",
        "                 context_size=512,hidden_size=2048, dropout=0.1):\n",
        "        self.embed_size = embed_size\n",
        "        self.num_heads = num_heads\n",
        "        self.context_size = context_size\n",
        "        self.hidden_size = hidden_size\n",
        "        self.dropout = dropout\n",
        "\n",
        "    def to_dict(self):\n",
        "        return {\n",
        "            'embed_size': self.embed_size,\n",
        "            'num_heads': self.num_heads,\n",
        "            'context_size': self.context_size,\n",
        "            'hidden_size': self.hidden_size,\n",
        "            'dropout': self.dropout\n",
        "        }"
      ]
    },
    {
      "cell_type": "code",
      "execution_count": null,
      "metadata": {
        "id": "idG3rmV-0p0C"
      },
      "outputs": [],
      "source": [
        "class ModelConfig:\n",
        "    def __init__(self, embed_size=512, hidden_dim=256, num_layers=1,\n",
        "                 bidirectional=False, bias=True, dropout=0.1,\n",
        "                 label_embeddings=None, self_attention_config=None, cross_label_attention_config=None,\n",
        "                 labels_induced_attention_config=None):\n",
        "\n",
        "        self.embed_size = embed_size\n",
        "        self.hidden_dim = hidden_dim\n",
        "        self.num_layers = num_layers\n",
        "        self.bidirectional = bidirectional\n",
        "        self.bias = bias\n",
        "        self.dropout = dropout\n",
        "        self.label_embeddings = label_embeddings\n",
        "        self.self_attention_config = self_attention_config\n",
        "        self.cross_label_attention_config = cross_label_attention_config\n",
        "        self.sequence_size = 2* hidden_dim if bidirectional else hidden_dim\n",
        "        self.labels_induced_attention_config = labels_induced_attention_config\n",
        "\n",
        "    def to_dict(self):\n",
        "        return {\n",
        "            'embed_size': self.embed_size,\n",
        "            'hidden_dim': self.hidden_dim,\n",
        "            'num_layers': self.num_layers,\n",
        "            'bidirectional': self.bidirectional,\n",
        "            'bias': self.bias,\n",
        "            'dropout': self.dropout,\n",
        "            'label_embeddings': self.label_embeddings,\n",
        "            'self_attention_config': self.self_attention_config,\n",
        "            'cross_label_attention_config': self.cross_label_attention_config,\n",
        "            'labels_induced_attention_config': self.labels_induced_attention_config\n",
        "        }\n"
      ]
    },
    {
      "cell_type": "code",
      "execution_count": null,
      "metadata": {
        "id": "6d0vfaXBQc7j",
        "colab": {
          "base_uri": "https://localhost:8080/"
        },
        "outputId": "8cc3accb-0f62-4ca9-aa4a-28b4ea54dbea"
      },
      "outputs": [
        {
          "output_type": "stream",
          "name": "stdout",
          "text": [
            "Number of parameters: 53807\n"
          ]
        },
        {
          "output_type": "stream",
          "name": "stderr",
          "text": [
            "/usr/local/lib/python3.10/dist-packages/torch/nn/modules/rnn.py:71: UserWarning: dropout option adds dropout after all but last recurrent layer, so non-zero dropout expects num_layers greater than 1, but got dropout=0.3 and num_layers=1\n",
            "  warnings.warn(\"dropout option adds dropout after all but last \"\n"
          ]
        }
      ],
      "source": [
        "num_classes = len(dataset.category_to_idx)\n",
        "hidden_dim = embed_size // 2\n",
        "num_layers = 1\n",
        "bidirectional = True\n",
        "bi_factor = 2 if bidirectional else 1\n",
        "sequence_size = bi_factor * hidden_dim\n",
        "\n",
        "self_attention_config = AttentionConfig( embed_size=sequence_size, num_heads=2,\n",
        "                                          context_size=sequence_size,hidden_size=hidden_dim, dropout=0.3)\n",
        "\n",
        "labels_induced_attention_config = AttentionConfig( embed_size=sequence_size, num_heads=2,\n",
        "                                          context_size=embed_size,hidden_size=embed_size // 2, dropout=0.3)\n",
        "\n",
        "cross_label_attention_config = AttentionConfig( embed_size=embed_size, num_heads=1,\n",
        "                                          context_size=sequence_size,hidden_size=num_classes // 2, dropout=0.3)\n",
        "\n",
        "\n",
        "\n",
        "model_config = ModelConfig(\n",
        "    embed_size = embed_size, hidden_dim = hidden_dim,\n",
        "    num_layers = num_layers, bidirectional = bidirectional,\n",
        "    label_embeddings = categories_embedding, dropout = 0.3,\n",
        "    self_attention_config = self_attention_config,\n",
        "    labels_induced_attention_config = labels_induced_attention_config,\n",
        "    cross_label_attention_config = cross_label_attention_config\n",
        ")\n",
        "\n",
        "model = SequenceCrossAttention(model_config).to(device)\n",
        "\n",
        "def count_parameters(model):\n",
        "    return sum(p.numel() for p in model.parameters() if p.requires_grad)\n",
        "\n",
        "print(f\"Number of parameters: {count_parameters(model)}\")"
      ]
    },
    {
      "cell_type": "code",
      "execution_count": null,
      "metadata": {
        "id": "GeZYXWRVaPK_",
        "colab": {
          "base_uri": "https://localhost:8080/"
        },
        "outputId": "8012f8c6-4503-436c-8237-965c57206e15"
      },
      "outputs": [
        {
          "output_type": "execute_result",
          "data": {
            "text/plain": [
              "SequenceCrossAttention(\n",
              "  (sequence_layer): LSTM(50, 25, dropout=0.3, bidirectional=True)\n",
              "  (ln_sequence): LayerNorm((50,), eps=1e-05, elementwise_affine=True)\n",
              "  (self_attention): AttentionBlock(\n",
              "    (attention): MultiheadAttention(\n",
              "      (out_proj): NonDynamicallyQuantizableLinear(in_features=50, out_features=50, bias=True)\n",
              "    )\n",
              "    (ln): LayerNorm((50,), eps=1e-05, elementwise_affine=True)\n",
              "    (ffn): FeedForwardNN(\n",
              "      (linear1): Linear(in_features=50, out_features=25, bias=True)\n",
              "      (activation): GELU(approximate='none')\n",
              "      (linear2): Linear(in_features=25, out_features=50, bias=True)\n",
              "    )\n",
              "  )\n",
              "  (cross_label_attention): AttentionBlock(\n",
              "    (attention): MultiheadAttention(\n",
              "      (out_proj): NonDynamicallyQuantizableLinear(in_features=50, out_features=50, bias=True)\n",
              "    )\n",
              "    (ln): LayerNorm((50,), eps=1e-05, elementwise_affine=True)\n",
              "    (ffn): FeedForwardNN(\n",
              "      (linear1): Linear(in_features=50, out_features=7, bias=True)\n",
              "      (activation): GELU(approximate='none')\n",
              "      (linear2): Linear(in_features=7, out_features=50, bias=True)\n",
              "    )\n",
              "  )\n",
              "  (labels_induced_attention): AttentionBlock(\n",
              "    (attention): MultiheadAttention(\n",
              "      (out_proj): NonDynamicallyQuantizableLinear(in_features=50, out_features=50, bias=True)\n",
              "    )\n",
              "    (ln): LayerNorm((50,), eps=1e-05, elementwise_affine=True)\n",
              "    (ffn): FeedForwardNN(\n",
              "      (linear1): Linear(in_features=50, out_features=25, bias=True)\n",
              "      (activation): GELU(approximate='none')\n",
              "      (linear2): Linear(in_features=25, out_features=50, bias=True)\n",
              "    )\n",
              "  )\n",
              "  (sigmoid): Sigmoid()\n",
              ")"
            ]
          },
          "metadata": {},
          "execution_count": 41
        }
      ],
      "source": [
        "model"
      ]
    },
    {
      "cell_type": "markdown",
      "metadata": {
        "id": "mVKf5rhwgAX-"
      },
      "source": [
        "# Train and test model"
      ]
    },
    {
      "cell_type": "markdown",
      "metadata": {
        "id": "uLJo_6MIgAX-"
      },
      "source": [
        "### Evaluation metric"
      ]
    },
    {
      "cell_type": "code",
      "execution_count": null,
      "metadata": {
        "id": "oqZxFrGkgm7M",
        "colab": {
          "base_uri": "https://localhost:8080/",
          "height": 399
        },
        "outputId": "3d523727-53dd-419c-d3c7-73c6a35eee2e"
      },
      "outputs": [
        {
          "output_type": "error",
          "ename": "NotImplementedError",
          "evalue": "ignored",
          "traceback": [
            "\u001b[0;31m---------------------------------------------------------------------------\u001b[0m",
            "\u001b[0;31mNotImplementedError\u001b[0m                       Traceback (most recent call last)",
            "\u001b[0;32m<ipython-input-42-63fe729aa17c>\u001b[0m in \u001b[0;36m<cell line: 1>\u001b[0;34m()\u001b[0m\n\u001b[0;32m----> 1\u001b[0;31m \u001b[0mget_ipython\u001b[0m\u001b[0;34m(\u001b[0m\u001b[0;34m)\u001b[0m\u001b[0;34m.\u001b[0m\u001b[0msystem\u001b[0m\u001b[0;34m(\u001b[0m\u001b[0;34m'pip install torcheval'\u001b[0m\u001b[0;34m)\u001b[0m\u001b[0;34m\u001b[0m\u001b[0;34m\u001b[0m\u001b[0m\n\u001b[0m",
            "\u001b[0;32m/usr/local/lib/python3.10/dist-packages/google/colab/_shell.py\u001b[0m in \u001b[0;36msystem\u001b[0;34m(self, *args, **kwargs)\u001b[0m\n\u001b[1;32m     97\u001b[0m       \u001b[0mkwargs\u001b[0m\u001b[0;34m.\u001b[0m\u001b[0mupdate\u001b[0m\u001b[0;34m(\u001b[0m\u001b[0;34m{\u001b[0m\u001b[0;34m'also_return_output'\u001b[0m\u001b[0;34m:\u001b[0m \u001b[0;32mTrue\u001b[0m\u001b[0;34m}\u001b[0m\u001b[0;34m)\u001b[0m\u001b[0;34m\u001b[0m\u001b[0;34m\u001b[0m\u001b[0m\n\u001b[1;32m     98\u001b[0m \u001b[0;34m\u001b[0m\u001b[0m\n\u001b[0;32m---> 99\u001b[0;31m     \u001b[0moutput\u001b[0m \u001b[0;34m=\u001b[0m \u001b[0m_system_commands\u001b[0m\u001b[0;34m.\u001b[0m\u001b[0m_system_compat\u001b[0m\u001b[0;34m(\u001b[0m\u001b[0mself\u001b[0m\u001b[0;34m,\u001b[0m \u001b[0;34m*\u001b[0m\u001b[0margs\u001b[0m\u001b[0;34m,\u001b[0m \u001b[0;34m**\u001b[0m\u001b[0mkwargs\u001b[0m\u001b[0;34m)\u001b[0m  \u001b[0;31m# pylint:disable=protected-access\u001b[0m\u001b[0;34m\u001b[0m\u001b[0;34m\u001b[0m\u001b[0m\n\u001b[0m\u001b[1;32m    100\u001b[0m \u001b[0;34m\u001b[0m\u001b[0m\n\u001b[1;32m    101\u001b[0m     \u001b[0;32mif\u001b[0m \u001b[0mpip_warn\u001b[0m\u001b[0;34m:\u001b[0m\u001b[0;34m\u001b[0m\u001b[0;34m\u001b[0m\u001b[0m\n",
            "\u001b[0;32m/usr/local/lib/python3.10/dist-packages/google/colab/_system_commands.py\u001b[0m in \u001b[0;36m_system_compat\u001b[0;34m(shell, cmd, also_return_output)\u001b[0m\n\u001b[1;32m    451\u001b[0m   \u001b[0;31m# is expected to call this function, thus adding one level of nesting to the\u001b[0m\u001b[0;34m\u001b[0m\u001b[0;34m\u001b[0m\u001b[0m\n\u001b[1;32m    452\u001b[0m   \u001b[0;31m# stack.\u001b[0m\u001b[0;34m\u001b[0m\u001b[0;34m\u001b[0m\u001b[0m\n\u001b[0;32m--> 453\u001b[0;31m   result = _run_command(\n\u001b[0m\u001b[1;32m    454\u001b[0m       \u001b[0mshell\u001b[0m\u001b[0;34m.\u001b[0m\u001b[0mvar_expand\u001b[0m\u001b[0;34m(\u001b[0m\u001b[0mcmd\u001b[0m\u001b[0;34m,\u001b[0m \u001b[0mdepth\u001b[0m\u001b[0;34m=\u001b[0m\u001b[0;36m2\u001b[0m\u001b[0;34m)\u001b[0m\u001b[0;34m,\u001b[0m \u001b[0mclear_streamed_output\u001b[0m\u001b[0;34m=\u001b[0m\u001b[0;32mFalse\u001b[0m\u001b[0;34m\u001b[0m\u001b[0;34m\u001b[0m\u001b[0m\n\u001b[1;32m    455\u001b[0m   )\n",
            "\u001b[0;32m/usr/local/lib/python3.10/dist-packages/google/colab/_system_commands.py\u001b[0m in \u001b[0;36m_run_command\u001b[0;34m(cmd, clear_streamed_output)\u001b[0m\n\u001b[1;32m    165\u001b[0m   \u001b[0mlocale_encoding\u001b[0m \u001b[0;34m=\u001b[0m \u001b[0mlocale\u001b[0m\u001b[0;34m.\u001b[0m\u001b[0mgetpreferredencoding\u001b[0m\u001b[0;34m(\u001b[0m\u001b[0;34m)\u001b[0m\u001b[0;34m\u001b[0m\u001b[0;34m\u001b[0m\u001b[0m\n\u001b[1;32m    166\u001b[0m   \u001b[0;32mif\u001b[0m \u001b[0mlocale_encoding\u001b[0m \u001b[0;34m!=\u001b[0m \u001b[0m_ENCODING\u001b[0m\u001b[0;34m:\u001b[0m\u001b[0;34m\u001b[0m\u001b[0;34m\u001b[0m\u001b[0m\n\u001b[0;32m--> 167\u001b[0;31m     raise NotImplementedError(\n\u001b[0m\u001b[1;32m    168\u001b[0m         \u001b[0;34m'A UTF-8 locale is required. Got {}'\u001b[0m\u001b[0;34m.\u001b[0m\u001b[0mformat\u001b[0m\u001b[0;34m(\u001b[0m\u001b[0mlocale_encoding\u001b[0m\u001b[0;34m)\u001b[0m\u001b[0;34m\u001b[0m\u001b[0;34m\u001b[0m\u001b[0m\n\u001b[1;32m    169\u001b[0m     )\n",
            "\u001b[0;31mNotImplementedError\u001b[0m: A UTF-8 locale is required. Got ANSI_X3.4-1968"
          ]
        }
      ],
      "source": [
        "%%capture\n",
        "!pip install torcheval"
      ]
    },
    {
      "cell_type": "code",
      "execution_count": null,
      "metadata": {
        "id": "uJbuYPkrj0Fw"
      },
      "outputs": [],
      "source": [
        "from torcheval.metrics import TopKMultilabelAccuracy,MultilabelAUPRC\n",
        "\n",
        "def prob_to_onehot(prob_output, thresholds):\n",
        "    expanded_thresholds = np.expand_dims(thresholds, axis=0)\n",
        "    expanded_thresholds = np.broadcast_to(expanded_thresholds, prob_output.shape)\n",
        "    output = (prob_output > expanded_thresholds).astype(int)\n",
        "    for index, sample in enumerate(output):\n",
        "           if sum(sample) == 0.0:\n",
        "            output[index][np.argmax(prob_output[index])] = 1.0\n",
        "    return output\n",
        "\n",
        "def compute_metric_for_thresholds(outputs, targets,metric, thresholds):\n",
        "    predicted = prob_to_onehot(outputs, thresholds)\n",
        "    score = metric(targets.cpu().numpy(), predicted.cpu().numpy())\n",
        "    return score\n",
        "\n",
        "def onehot_to_labels(onehot,idx_to_category):\n",
        "    indices = torch.nonzero(onehot == 1)\n",
        "    batch_labels = []\n",
        "    for i in range(onehot.size(0)):\n",
        "        sample_labels = [idx_to_category[index[1].item()] for index in indices if index[0] == i]\n",
        "        batch_labels.append(sample_labels)\n",
        "\n",
        "    return batch_labels\n",
        "\n",
        "aurpc = MultilabelAUPRC(num_labels=len(dataset.category_to_idx), average='macro').to(device)\n",
        "def eval_metric(outputs, targets):\n",
        "    aurpc.update(outputs, targets)\n",
        "    score = aurpc.compute()\n",
        "    aurpc.reset()\n",
        "    return score.mean()\n",
        "\n",
        "number_of_predictions = 2\n",
        "def topKPrediction(outputs, k=number_of_predictions, idx_to_category=dataset.idx_to_category):\n",
        "  kPredictions = torch.argsort(outputs, dim = 1)[:, :k]\n",
        "  return [[idx_to_category[idx.item()] for idx in row] for row in kPredictions]\n",
        "\n"
      ]
    },
    {
      "cell_type": "code",
      "source": [
        "def find_optimal_threshold(outputs, targets, metric):\n",
        "  assert outputs.size(1) == targets.size(1), \"Num of classes of targets and outputs are not equal\"\n",
        "  num_classes = outputs.size(1)\n",
        "  optimal_thresholds = [0 for _ in range(num_classes)]\n",
        "\n",
        "  for label in range(num_classes):\n",
        "    class_logits = outputs[:, label]\n",
        "    class_targets = targets[:, label]\n",
        "    interval_width = 0.05\n",
        "    best_score = 0\n",
        "\n",
        "    for threshold in np.linspace(0,1,int(1/interval_width)+1):\n",
        "      class_preds = (class_logits > threshold).int()\n",
        "      score = metric(class_targets.cpu().numpy(), class_preds.cpu().numpy())\n",
        "      if score > best_score:\n",
        "        best_score = score\n",
        "        optimal_thresholds[label] = threshold\n",
        "\n",
        "  return optimal_thresholds\n",
        "\n",
        "\n",
        "\n",
        "\n",
        "\n"
      ],
      "metadata": {
        "id": "sKhNFc22gAOV"
      },
      "execution_count": null,
      "outputs": []
    },
    {
      "cell_type": "markdown",
      "metadata": {
        "id": "wx3_fE5-gAX-"
      },
      "source": [
        "### Utilies functions for training and testing"
      ]
    },
    {
      "cell_type": "code",
      "execution_count": null,
      "metadata": {
        "id": "cjgMWpfogAX-"
      },
      "outputs": [],
      "source": [
        "def train_one_epoch(model, loader, optimizer, criterion,  metric):\n",
        "    model.train()\n",
        "    total_loss = 0\n",
        "    start_time = time.time()\n",
        "    average_metric = 0\n",
        "    for batch_num, (inputs, targets) in enumerate(loader):\n",
        "        optimizer.zero_grad()\n",
        "        outputs = model(inputs)\n",
        "        loss = criterion(outputs, targets)\n",
        "        total_loss += loss.item()\n",
        "        loss.backward()\n",
        "        optimizer.step()\n",
        "        with torch.no_grad():\n",
        "          average_metric += metric(outputs, targets)\n",
        "    elapsed_time = time.time() - start_time\n",
        "    average_metric /= len(loader)\n",
        "    avg_loss = total_loss / len(loader)\n",
        "    return avg_loss, average_metric, elapsed_time\n",
        "\n",
        "def evaluate(model, loader, criterion, metric):\n",
        "    model.eval()\n",
        "    total_loss = 0\n",
        "    all_outputs, all_targets = [], []\n",
        "    with torch.no_grad():\n",
        "        for inputs, targets in loader:\n",
        "            outputs = model(inputs)\n",
        "            loss = criterion(outputs, targets)\n",
        "            total_loss += loss.item()\n",
        "            all_outputs.append(outputs)\n",
        "            all_targets.append(targets)\n",
        "    all_outputs, all_targets = torch.cat(all_outputs, dim=0), torch.cat(all_targets, dim=0)\n",
        "    eval_metric = metric(all_outputs, all_targets)\n",
        "    avg_loss = total_loss / len(loader)\n",
        "    return avg_loss, eval_metric, all_outputs, all_targets\n",
        "\n",
        "def display_metrics(train_loss, train_improvement, val_loss, val_improvement, train_eval_metric, val_eval_metric, METRIC_NAME):\n",
        "    data = {\n",
        "        'train': [f\"{train_loss:.5f}\", f\"{train_improvement:.5f}\", f\"{train_eval_metric:.5f}\"],\n",
        "        'val': [f\"{val_loss:.5f}\", f\"{val_improvement:.5f}\", f\"{val_eval_metric:.5f}\"]\n",
        "    }\n",
        "\n",
        "    df = pd.DataFrame(data, index=['loss', 'improvement', METRIC_NAME + ' Score'])\n",
        "    display(df)"
      ]
    },
    {
      "cell_type": "code",
      "execution_count": null,
      "metadata": {
        "id": "7TvP0sG91xUU"
      },
      "outputs": [],
      "source": [
        "class EarlyStopping:\n",
        "    def __init__(self, patience=5, delta=0):\n",
        "        self.patience = patience\n",
        "        self.counter = 0\n",
        "        self.best_score = None\n",
        "        self.early_stop = False\n",
        "        self.delta = delta\n",
        "\n",
        "    def step(self, val_loss):\n",
        "        score = -val_loss\n",
        "\n",
        "        if self.best_score is None:\n",
        "            self.best_score = score\n",
        "        elif score < self.best_score + self.delta:\n",
        "            self.counter += 1\n",
        "            print(f\"Early Stopping counter: {self.counter} out of {self.patience}\")\n",
        "            if self.counter >= self.patience:\n",
        "                self.early_stop = True\n",
        "        else:\n",
        "            self.best_score = score\n",
        "            self.counter = 0\n",
        "\n",
        "        return self.early_stop"
      ]
    },
    {
      "cell_type": "markdown",
      "metadata": {
        "id": "yET-9c_jx1yn"
      },
      "source": [
        "## Main Train Loop"
      ]
    },
    {
      "cell_type": "code",
      "execution_count": null,
      "metadata": {
        "id": "dKWIMa9Qx4GR"
      },
      "outputs": [],
      "source": [
        "import time\n",
        "import torch.optim as optim\n",
        "import pandas as pd\n",
        "from IPython.display import display, clear_output\n",
        "\n",
        "def train_model(model, train_loader, val_loader, train_config):\n",
        "\n",
        "    criterion = train_config['criterion']\n",
        "    optimizer = train_config['optimizer']\n",
        "    num_epochs = train_config['num_epochs']\n",
        "    metric = train_config['metric']\n",
        "    metric_name = train_config['metric_name']\n",
        "    refresh_period = train_config.get('refresh_period', 10)\n",
        "\n",
        "    train_losses = []\n",
        "    val_losses = []\n",
        "    train_metric = []\n",
        "    val_metric = []\n",
        "    total_batches = len(train_loader)\n",
        "    early_stopping = EarlyStopping(patience=int(num_epochs*0.1), delta=0.00001)\n",
        "\n",
        "    for epoch in range(num_epochs):\n",
        "        if epoch % refresh_period == 0:\n",
        "            clear_output(wait=True)\n",
        "\n",
        "        train_loss, train_eval_metric, elapsed_time = train_one_epoch(model, train_loader, optimizer, criterion, metric)\n",
        "        val_loss, val_eval_metric, _, _ = evaluate(model, val_loader, criterion, metric)\n",
        "\n",
        "\n",
        "\n",
        "        print(f\"Epoch: {epoch+1}, Elapsed Time: {elapsed_time:.3f}s\")\n",
        "        train_losses.append(train_loss)\n",
        "        val_losses.append(val_loss)\n",
        "\n",
        "        train_improvement = train_losses[-2] - train_loss if epoch > 0 else 0\n",
        "        val_improvement = val_losses[-2] - val_loss if epoch > 0 else 0\n",
        "        display_metrics(train_loss, train_improvement,\n",
        "                        val_loss, val_improvement,\n",
        "                        train_eval_metric, val_eval_metric, metric_name)\n",
        "        train_metric.append(train_eval_metric.item())\n",
        "        val_metric.append(val_eval_metric.item())\n",
        "\n",
        "        if early_stopping.step(val_loss):\n",
        "            print(\"Early stopping triggered.\")\n",
        "            break\n",
        "\n",
        "    plot_training_results(train_metric, val_metric, train_losses,val_losses, train_config['metric_name'])"
      ]
    },
    {
      "cell_type": "markdown",
      "metadata": {
        "id": "bD2gZAVxyv7t"
      },
      "source": [
        "## Plottings the training results function\n"
      ]
    },
    {
      "cell_type": "code",
      "execution_count": null,
      "metadata": {
        "id": "TWBN_G4XzvhK"
      },
      "outputs": [],
      "source": [
        "import matplotlib.pyplot as plt\n",
        "import seaborn as sns\n",
        "\n",
        "def plot_training_results(train_metric, val_metric, train_losses, val_losses, METRIC_NAME):\n",
        "    sns.set_theme(style=\"whitegrid\")\n",
        "\n",
        "    fig, axs = plt.subplots(1, 2, figsize=(15, 5))\n",
        "\n",
        "    # Plotting Metric\n",
        "    axs[0].plot(train_metric, label=\"Train\", linewidth=1.0)\n",
        "    axs[0].plot(val_metric, label=\"Validation\", linewidth=1.0)\n",
        "    metric_train_val_corr = np.corrcoef(train_metric, val_metric)[0, 1]\n",
        "    axs[0].set_title(f\"{METRIC_NAME}: TRAIN vs VAL, corr: {metric_train_val_corr:.5f}\")\n",
        "    axs[0].set_xlabel(\"Epochs\")\n",
        "    axs[0].set_ylabel(METRIC_NAME)\n",
        "    axs[0].legend()\n",
        "\n",
        "    # Plotting Losses\n",
        "    axs[1].plot(train_losses, label=\"Train\", linewidth=1.0 )\n",
        "    axs[1].plot(val_losses, label=\"Validation\", linewidth=2.5)\n",
        "    loss_train_val_corr = np.corrcoef(train_losses, val_losses)[0, 1]\n",
        "    axs[1].set_title(f\"Loss: TRAIN vs VAL, corr: {loss_train_val_corr:.5f}\")\n",
        "    axs[1].set_xlabel(\"Epochs\")\n",
        "    axs[1].set_ylabel(\"Loss\")\n",
        "    axs[1].legend()\n",
        "\n",
        "    plt.show()\n",
        "\n"
      ]
    },
    {
      "cell_type": "markdown",
      "metadata": {
        "id": "-ClPLCO3gAX-"
      },
      "source": [
        "## Train the model"
      ]
    },
    {
      "cell_type": "code",
      "execution_count": null,
      "metadata": {
        "colab": {
          "base_uri": "https://localhost:8080/",
          "height": 668
        },
        "id": "-CYv_nwqcKEb",
        "outputId": "9cb10ffe-2168-4343-e74d-7ee7c0601937"
      },
      "outputs": [
        {
          "output_type": "stream",
          "name": "stdout",
          "text": [
            "Epoch: 21, Elapsed Time: 23.951s\n"
          ]
        },
        {
          "output_type": "display_data",
          "data": {
            "text/plain": [
              "                train       val\n",
              "loss          0.18206   0.18991\n",
              "improvement  -0.00055  -0.00001\n",
              "AURPC Score   0.57099   0.48493"
            ],
            "text/html": [
              "\n",
              "  <div id=\"df-6893f79b-6807-49df-8411-4db6f5ac3f2a\" class=\"colab-df-container\">\n",
              "    <div>\n",
              "<style scoped>\n",
              "    .dataframe tbody tr th:only-of-type {\n",
              "        vertical-align: middle;\n",
              "    }\n",
              "\n",
              "    .dataframe tbody tr th {\n",
              "        vertical-align: top;\n",
              "    }\n",
              "\n",
              "    .dataframe thead th {\n",
              "        text-align: right;\n",
              "    }\n",
              "</style>\n",
              "<table border=\"1\" class=\"dataframe\">\n",
              "  <thead>\n",
              "    <tr style=\"text-align: right;\">\n",
              "      <th></th>\n",
              "      <th>train</th>\n",
              "      <th>val</th>\n",
              "    </tr>\n",
              "  </thead>\n",
              "  <tbody>\n",
              "    <tr>\n",
              "      <th>loss</th>\n",
              "      <td>0.18206</td>\n",
              "      <td>0.18991</td>\n",
              "    </tr>\n",
              "    <tr>\n",
              "      <th>improvement</th>\n",
              "      <td>-0.00055</td>\n",
              "      <td>-0.00001</td>\n",
              "    </tr>\n",
              "    <tr>\n",
              "      <th>AURPC Score</th>\n",
              "      <td>0.57099</td>\n",
              "      <td>0.48493</td>\n",
              "    </tr>\n",
              "  </tbody>\n",
              "</table>\n",
              "</div>\n",
              "    <div class=\"colab-df-buttons\">\n",
              "\n",
              "  <div class=\"colab-df-container\">\n",
              "    <button class=\"colab-df-convert\" onclick=\"convertToInteractive('df-6893f79b-6807-49df-8411-4db6f5ac3f2a')\"\n",
              "            title=\"Convert this dataframe to an interactive table.\"\n",
              "            style=\"display:none;\">\n",
              "\n",
              "  <svg xmlns=\"http://www.w3.org/2000/svg\" height=\"24px\" viewBox=\"0 -960 960 960\">\n",
              "    <path d=\"M120-120v-720h720v720H120Zm60-500h600v-160H180v160Zm220 220h160v-160H400v160Zm0 220h160v-160H400v160ZM180-400h160v-160H180v160Zm440 0h160v-160H620v160ZM180-180h160v-160H180v160Zm440 0h160v-160H620v160Z\"/>\n",
              "  </svg>\n",
              "    </button>\n",
              "\n",
              "  <style>\n",
              "    .colab-df-container {\n",
              "      display:flex;\n",
              "      gap: 12px;\n",
              "    }\n",
              "\n",
              "    .colab-df-convert {\n",
              "      background-color: #E8F0FE;\n",
              "      border: none;\n",
              "      border-radius: 50%;\n",
              "      cursor: pointer;\n",
              "      display: none;\n",
              "      fill: #1967D2;\n",
              "      height: 32px;\n",
              "      padding: 0 0 0 0;\n",
              "      width: 32px;\n",
              "    }\n",
              "\n",
              "    .colab-df-convert:hover {\n",
              "      background-color: #E2EBFA;\n",
              "      box-shadow: 0px 1px 2px rgba(60, 64, 67, 0.3), 0px 1px 3px 1px rgba(60, 64, 67, 0.15);\n",
              "      fill: #174EA6;\n",
              "    }\n",
              "\n",
              "    .colab-df-buttons div {\n",
              "      margin-bottom: 4px;\n",
              "    }\n",
              "\n",
              "    [theme=dark] .colab-df-convert {\n",
              "      background-color: #3B4455;\n",
              "      fill: #D2E3FC;\n",
              "    }\n",
              "\n",
              "    [theme=dark] .colab-df-convert:hover {\n",
              "      background-color: #434B5C;\n",
              "      box-shadow: 0px 1px 3px 1px rgba(0, 0, 0, 0.15);\n",
              "      filter: drop-shadow(0px 1px 2px rgba(0, 0, 0, 0.3));\n",
              "      fill: #FFFFFF;\n",
              "    }\n",
              "  </style>\n",
              "\n",
              "    <script>\n",
              "      const buttonEl =\n",
              "        document.querySelector('#df-6893f79b-6807-49df-8411-4db6f5ac3f2a button.colab-df-convert');\n",
              "      buttonEl.style.display =\n",
              "        google.colab.kernel.accessAllowed ? 'block' : 'none';\n",
              "\n",
              "      async function convertToInteractive(key) {\n",
              "        const element = document.querySelector('#df-6893f79b-6807-49df-8411-4db6f5ac3f2a');\n",
              "        const dataTable =\n",
              "          await google.colab.kernel.invokeFunction('convertToInteractive',\n",
              "                                                    [key], {});\n",
              "        if (!dataTable) return;\n",
              "\n",
              "        const docLinkHtml = 'Like what you see? Visit the ' +\n",
              "          '<a target=\"_blank\" href=https://colab.research.google.com/notebooks/data_table.ipynb>data table notebook</a>'\n",
              "          + ' to learn more about interactive tables.';\n",
              "        element.innerHTML = '';\n",
              "        dataTable['output_type'] = 'display_data';\n",
              "        await google.colab.output.renderOutput(dataTable, element);\n",
              "        const docLink = document.createElement('div');\n",
              "        docLink.innerHTML = docLinkHtml;\n",
              "        element.appendChild(docLink);\n",
              "      }\n",
              "    </script>\n",
              "  </div>\n",
              "\n",
              "\n",
              "<div id=\"df-95179a86-da2f-483c-ad36-84ef550f5b74\">\n",
              "  <button class=\"colab-df-quickchart\" onclick=\"quickchart('df-95179a86-da2f-483c-ad36-84ef550f5b74')\"\n",
              "            title=\"Suggest charts.\"\n",
              "            style=\"display:none;\">\n",
              "\n",
              "<svg xmlns=\"http://www.w3.org/2000/svg\" height=\"24px\"viewBox=\"0 0 24 24\"\n",
              "     width=\"24px\">\n",
              "    <g>\n",
              "        <path d=\"M19 3H5c-1.1 0-2 .9-2 2v14c0 1.1.9 2 2 2h14c1.1 0 2-.9 2-2V5c0-1.1-.9-2-2-2zM9 17H7v-7h2v7zm4 0h-2V7h2v10zm4 0h-2v-4h2v4z\"/>\n",
              "    </g>\n",
              "</svg>\n",
              "  </button>\n",
              "\n",
              "<style>\n",
              "  .colab-df-quickchart {\n",
              "    background-color: #E8F0FE;\n",
              "    border: none;\n",
              "    border-radius: 50%;\n",
              "    cursor: pointer;\n",
              "    display: none;\n",
              "    fill: #1967D2;\n",
              "    height: 32px;\n",
              "    padding: 0 0 0 0;\n",
              "    width: 32px;\n",
              "  }\n",
              "\n",
              "  .colab-df-quickchart:hover {\n",
              "    background-color: #E2EBFA;\n",
              "    box-shadow: 0px 1px 2px rgba(60, 64, 67, 0.3), 0px 1px 3px 1px rgba(60, 64, 67, 0.15);\n",
              "    fill: #174EA6;\n",
              "  }\n",
              "\n",
              "  [theme=dark] .colab-df-quickchart {\n",
              "    background-color: #3B4455;\n",
              "    fill: #D2E3FC;\n",
              "  }\n",
              "\n",
              "  [theme=dark] .colab-df-quickchart:hover {\n",
              "    background-color: #434B5C;\n",
              "    box-shadow: 0px 1px 3px 1px rgba(0, 0, 0, 0.15);\n",
              "    filter: drop-shadow(0px 1px 2px rgba(0, 0, 0, 0.3));\n",
              "    fill: #FFFFFF;\n",
              "  }\n",
              "</style>\n",
              "\n",
              "  <script>\n",
              "    async function quickchart(key) {\n",
              "      const charts = await google.colab.kernel.invokeFunction(\n",
              "          'suggestCharts', [key], {});\n",
              "    }\n",
              "    (() => {\n",
              "      let quickchartButtonEl =\n",
              "        document.querySelector('#df-95179a86-da2f-483c-ad36-84ef550f5b74 button');\n",
              "      quickchartButtonEl.style.display =\n",
              "        google.colab.kernel.accessAllowed ? 'block' : 'none';\n",
              "    })();\n",
              "  </script>\n",
              "</div>\n",
              "    </div>\n",
              "  </div>\n"
            ]
          },
          "metadata": {}
        },
        {
          "output_type": "stream",
          "name": "stdout",
          "text": [
            "Early Stopping counter: 11 out of 30\n"
          ]
        },
        {
          "output_type": "error",
          "ename": "KeyboardInterrupt",
          "evalue": "ignored",
          "traceback": [
            "\u001b[0;31m---------------------------------------------------------------------------\u001b[0m",
            "\u001b[0;31mKeyboardInterrupt\u001b[0m                         Traceback (most recent call last)",
            "\u001b[0;32m<ipython-input-49-1eda326071eb>\u001b[0m in \u001b[0;36m<cell line: 11>\u001b[0;34m()\u001b[0m\n\u001b[1;32m      9\u001b[0m }\n\u001b[1;32m     10\u001b[0m \u001b[0;34m\u001b[0m\u001b[0m\n\u001b[0;32m---> 11\u001b[0;31m \u001b[0mtrain_model\u001b[0m\u001b[0;34m(\u001b[0m\u001b[0mmodel\u001b[0m\u001b[0;34m,\u001b[0m \u001b[0mtrain_loader\u001b[0m\u001b[0;34m,\u001b[0m \u001b[0mval_loader\u001b[0m\u001b[0;34m,\u001b[0m \u001b[0mtrain_config\u001b[0m\u001b[0;34m)\u001b[0m\u001b[0;34m\u001b[0m\u001b[0;34m\u001b[0m\u001b[0m\n\u001b[0m",
            "\u001b[0;32m<ipython-input-47-3078cc2cbbd1>\u001b[0m in \u001b[0;36mtrain_model\u001b[0;34m(model, train_loader, val_loader, train_config)\u001b[0m\n\u001b[1;32m     25\u001b[0m \u001b[0;34m\u001b[0m\u001b[0m\n\u001b[1;32m     26\u001b[0m         \u001b[0mtrain_loss\u001b[0m\u001b[0;34m,\u001b[0m \u001b[0mtrain_eval_metric\u001b[0m\u001b[0;34m,\u001b[0m \u001b[0melapsed_time\u001b[0m \u001b[0;34m=\u001b[0m \u001b[0mtrain_one_epoch\u001b[0m\u001b[0;34m(\u001b[0m\u001b[0mmodel\u001b[0m\u001b[0;34m,\u001b[0m \u001b[0mtrain_loader\u001b[0m\u001b[0;34m,\u001b[0m \u001b[0moptimizer\u001b[0m\u001b[0;34m,\u001b[0m \u001b[0mcriterion\u001b[0m\u001b[0;34m,\u001b[0m \u001b[0mmetric\u001b[0m\u001b[0;34m)\u001b[0m\u001b[0;34m\u001b[0m\u001b[0;34m\u001b[0m\u001b[0m\n\u001b[0;32m---> 27\u001b[0;31m         \u001b[0mval_loss\u001b[0m\u001b[0;34m,\u001b[0m \u001b[0mval_eval_metric\u001b[0m\u001b[0;34m,\u001b[0m \u001b[0m_\u001b[0m\u001b[0;34m,\u001b[0m \u001b[0m_\u001b[0m \u001b[0;34m=\u001b[0m \u001b[0mevaluate\u001b[0m\u001b[0;34m(\u001b[0m\u001b[0mmodel\u001b[0m\u001b[0;34m,\u001b[0m \u001b[0mval_loader\u001b[0m\u001b[0;34m,\u001b[0m \u001b[0mcriterion\u001b[0m\u001b[0;34m,\u001b[0m \u001b[0mmetric\u001b[0m\u001b[0;34m)\u001b[0m\u001b[0;34m\u001b[0m\u001b[0;34m\u001b[0m\u001b[0m\n\u001b[0m\u001b[1;32m     28\u001b[0m \u001b[0;34m\u001b[0m\u001b[0m\n\u001b[1;32m     29\u001b[0m \u001b[0;34m\u001b[0m\u001b[0m\n",
            "\u001b[0;32m<ipython-input-45-40ea1117c78d>\u001b[0m in \u001b[0;36mevaluate\u001b[0;34m(model, loader, criterion, metric)\u001b[0m\n\u001b[1;32m     24\u001b[0m     \u001b[0;32mwith\u001b[0m \u001b[0mtorch\u001b[0m\u001b[0;34m.\u001b[0m\u001b[0mno_grad\u001b[0m\u001b[0;34m(\u001b[0m\u001b[0;34m)\u001b[0m\u001b[0;34m:\u001b[0m\u001b[0;34m\u001b[0m\u001b[0;34m\u001b[0m\u001b[0m\n\u001b[1;32m     25\u001b[0m         \u001b[0;32mfor\u001b[0m \u001b[0minputs\u001b[0m\u001b[0;34m,\u001b[0m \u001b[0mtargets\u001b[0m \u001b[0;32min\u001b[0m \u001b[0mloader\u001b[0m\u001b[0;34m:\u001b[0m\u001b[0;34m\u001b[0m\u001b[0;34m\u001b[0m\u001b[0m\n\u001b[0;32m---> 26\u001b[0;31m             \u001b[0moutputs\u001b[0m \u001b[0;34m=\u001b[0m \u001b[0mmodel\u001b[0m\u001b[0;34m(\u001b[0m\u001b[0minputs\u001b[0m\u001b[0;34m)\u001b[0m\u001b[0;34m\u001b[0m\u001b[0;34m\u001b[0m\u001b[0m\n\u001b[0m\u001b[1;32m     27\u001b[0m             \u001b[0mloss\u001b[0m \u001b[0;34m=\u001b[0m \u001b[0mcriterion\u001b[0m\u001b[0;34m(\u001b[0m\u001b[0moutputs\u001b[0m\u001b[0;34m,\u001b[0m \u001b[0mtargets\u001b[0m\u001b[0;34m)\u001b[0m\u001b[0;34m\u001b[0m\u001b[0;34m\u001b[0m\u001b[0m\n\u001b[1;32m     28\u001b[0m             \u001b[0mtotal_loss\u001b[0m \u001b[0;34m+=\u001b[0m \u001b[0mloss\u001b[0m\u001b[0;34m.\u001b[0m\u001b[0mitem\u001b[0m\u001b[0;34m(\u001b[0m\u001b[0;34m)\u001b[0m\u001b[0;34m\u001b[0m\u001b[0;34m\u001b[0m\u001b[0m\n",
            "\u001b[0;32m/usr/local/lib/python3.10/dist-packages/torch/nn/modules/module.py\u001b[0m in \u001b[0;36m_call_impl\u001b[0;34m(self, *args, **kwargs)\u001b[0m\n\u001b[1;32m   1499\u001b[0m                 \u001b[0;32mor\u001b[0m \u001b[0m_global_backward_pre_hooks\u001b[0m \u001b[0;32mor\u001b[0m \u001b[0m_global_backward_hooks\u001b[0m\u001b[0;34m\u001b[0m\u001b[0;34m\u001b[0m\u001b[0m\n\u001b[1;32m   1500\u001b[0m                 or _global_forward_hooks or _global_forward_pre_hooks):\n\u001b[0;32m-> 1501\u001b[0;31m             \u001b[0;32mreturn\u001b[0m \u001b[0mforward_call\u001b[0m\u001b[0;34m(\u001b[0m\u001b[0;34m*\u001b[0m\u001b[0margs\u001b[0m\u001b[0;34m,\u001b[0m \u001b[0;34m**\u001b[0m\u001b[0mkwargs\u001b[0m\u001b[0;34m)\u001b[0m\u001b[0;34m\u001b[0m\u001b[0;34m\u001b[0m\u001b[0m\n\u001b[0m\u001b[1;32m   1502\u001b[0m         \u001b[0;31m# Do not call functions when jit is used\u001b[0m\u001b[0;34m\u001b[0m\u001b[0;34m\u001b[0m\u001b[0m\n\u001b[1;32m   1503\u001b[0m         \u001b[0mfull_backward_hooks\u001b[0m\u001b[0;34m,\u001b[0m \u001b[0mnon_full_backward_hooks\u001b[0m \u001b[0;34m=\u001b[0m \u001b[0;34m[\u001b[0m\u001b[0;34m]\u001b[0m\u001b[0;34m,\u001b[0m \u001b[0;34m[\u001b[0m\u001b[0;34m]\u001b[0m\u001b[0;34m\u001b[0m\u001b[0;34m\u001b[0m\u001b[0m\n",
            "\u001b[0;32m<ipython-input-27-22b5edd2f747>\u001b[0m in \u001b[0;36mforward\u001b[0;34m(self, input)\u001b[0m\n\u001b[1;32m     28\u001b[0m         \u001b[0msequence_out\u001b[0m \u001b[0;34m=\u001b[0m \u001b[0mself\u001b[0m\u001b[0;34m.\u001b[0m\u001b[0mln_sequence\u001b[0m\u001b[0;34m(\u001b[0m\u001b[0msequence_out\u001b[0m\u001b[0;34m)\u001b[0m\u001b[0;34m\u001b[0m\u001b[0;34m\u001b[0m\u001b[0m\n\u001b[1;32m     29\u001b[0m         \u001b[0moutput\u001b[0m \u001b[0;34m=\u001b[0m \u001b[0mself\u001b[0m\u001b[0;34m.\u001b[0m\u001b[0mself_attention\u001b[0m\u001b[0;34m(\u001b[0m\u001b[0msequence_out\u001b[0m\u001b[0;34m,\u001b[0m \u001b[0msequence_out\u001b[0m\u001b[0;34m)\u001b[0m\u001b[0;34m\u001b[0m\u001b[0;34m\u001b[0m\u001b[0m\n\u001b[0;32m---> 30\u001b[0;31m         \u001b[0moutput\u001b[0m \u001b[0;34m=\u001b[0m \u001b[0mself\u001b[0m\u001b[0;34m.\u001b[0m\u001b[0mlabels_induced_attention\u001b[0m\u001b[0;34m(\u001b[0m\u001b[0moutput\u001b[0m\u001b[0;34m,\u001b[0m \u001b[0mbatched_label_embeddings_induced\u001b[0m\u001b[0;34m)\u001b[0m\u001b[0;34m\u001b[0m\u001b[0;34m\u001b[0m\u001b[0m\n\u001b[0m\u001b[1;32m     31\u001b[0m         \u001b[0moutput\u001b[0m \u001b[0;34m=\u001b[0m \u001b[0mself\u001b[0m\u001b[0;34m.\u001b[0m\u001b[0mcross_label_attention\u001b[0m\u001b[0;34m(\u001b[0m\u001b[0mbatched_label_embeddings_cross\u001b[0m\u001b[0;34m,\u001b[0m \u001b[0moutput\u001b[0m\u001b[0;34m)\u001b[0m\u001b[0;34m\u001b[0m\u001b[0;34m\u001b[0m\u001b[0m\n\u001b[1;32m     32\u001b[0m         \u001b[0moutput\u001b[0m \u001b[0;34m=\u001b[0m \u001b[0mbatch_dot_product\u001b[0m\u001b[0;34m(\u001b[0m\u001b[0mbatched_label_embeddings_cross\u001b[0m\u001b[0;34m,\u001b[0m \u001b[0moutput\u001b[0m\u001b[0;34m)\u001b[0m\u001b[0;34m\u001b[0m\u001b[0;34m\u001b[0m\u001b[0m\n",
            "\u001b[0;32m/usr/local/lib/python3.10/dist-packages/torch/nn/modules/module.py\u001b[0m in \u001b[0;36m_call_impl\u001b[0;34m(self, *args, **kwargs)\u001b[0m\n\u001b[1;32m   1499\u001b[0m                 \u001b[0;32mor\u001b[0m \u001b[0m_global_backward_pre_hooks\u001b[0m \u001b[0;32mor\u001b[0m \u001b[0m_global_backward_hooks\u001b[0m\u001b[0;34m\u001b[0m\u001b[0;34m\u001b[0m\u001b[0m\n\u001b[1;32m   1500\u001b[0m                 or _global_forward_hooks or _global_forward_pre_hooks):\n\u001b[0;32m-> 1501\u001b[0;31m             \u001b[0;32mreturn\u001b[0m \u001b[0mforward_call\u001b[0m\u001b[0;34m(\u001b[0m\u001b[0;34m*\u001b[0m\u001b[0margs\u001b[0m\u001b[0;34m,\u001b[0m \u001b[0;34m**\u001b[0m\u001b[0mkwargs\u001b[0m\u001b[0;34m)\u001b[0m\u001b[0;34m\u001b[0m\u001b[0;34m\u001b[0m\u001b[0m\n\u001b[0m\u001b[1;32m   1502\u001b[0m         \u001b[0;31m# Do not call functions when jit is used\u001b[0m\u001b[0;34m\u001b[0m\u001b[0;34m\u001b[0m\u001b[0m\n\u001b[1;32m   1503\u001b[0m         \u001b[0mfull_backward_hooks\u001b[0m\u001b[0;34m,\u001b[0m \u001b[0mnon_full_backward_hooks\u001b[0m \u001b[0;34m=\u001b[0m \u001b[0;34m[\u001b[0m\u001b[0;34m]\u001b[0m\u001b[0;34m,\u001b[0m \u001b[0;34m[\u001b[0m\u001b[0;34m]\u001b[0m\u001b[0;34m\u001b[0m\u001b[0;34m\u001b[0m\u001b[0m\n",
            "\u001b[0;32m<ipython-input-13-cb7bf815e560>\u001b[0m in \u001b[0;36mforward\u001b[0;34m(self, query, context)\u001b[0m\n\u001b[1;32m     14\u001b[0m \u001b[0;34m\u001b[0m\u001b[0m\n\u001b[1;32m     15\u001b[0m   \u001b[0;32mdef\u001b[0m \u001b[0mforward\u001b[0m\u001b[0;34m(\u001b[0m\u001b[0mself\u001b[0m\u001b[0;34m,\u001b[0m \u001b[0mquery\u001b[0m\u001b[0;34m,\u001b[0m \u001b[0mcontext\u001b[0m\u001b[0;34m)\u001b[0m\u001b[0;34m:\u001b[0m\u001b[0;34m\u001b[0m\u001b[0;34m\u001b[0m\u001b[0m\n\u001b[0;32m---> 16\u001b[0;31m     \u001b[0mattention_output\u001b[0m\u001b[0;34m,\u001b[0m \u001b[0m_\u001b[0m  \u001b[0;34m=\u001b[0m \u001b[0mself\u001b[0m\u001b[0;34m.\u001b[0m\u001b[0mattention\u001b[0m\u001b[0;34m(\u001b[0m\u001b[0mquery\u001b[0m\u001b[0;34m,\u001b[0m \u001b[0mcontext\u001b[0m\u001b[0;34m,\u001b[0m \u001b[0mcontext\u001b[0m\u001b[0;34m)\u001b[0m\u001b[0;34m\u001b[0m\u001b[0;34m\u001b[0m\u001b[0m\n\u001b[0m\u001b[1;32m     17\u001b[0m     \u001b[0moutput\u001b[0m \u001b[0;34m=\u001b[0m \u001b[0mself\u001b[0m\u001b[0;34m.\u001b[0m\u001b[0mln\u001b[0m\u001b[0;34m(\u001b[0m\u001b[0mattention_output\u001b[0m \u001b[0;34m+\u001b[0m \u001b[0mquery\u001b[0m\u001b[0;34m)\u001b[0m\u001b[0;34m\u001b[0m\u001b[0;34m\u001b[0m\u001b[0m\n\u001b[1;32m     18\u001b[0m     \u001b[0moutput\u001b[0m \u001b[0;34m=\u001b[0m \u001b[0mself\u001b[0m\u001b[0;34m.\u001b[0m\u001b[0mffn\u001b[0m\u001b[0;34m(\u001b[0m\u001b[0moutput\u001b[0m\u001b[0;34m)\u001b[0m\u001b[0;34m\u001b[0m\u001b[0;34m\u001b[0m\u001b[0m\n",
            "\u001b[0;32m/usr/local/lib/python3.10/dist-packages/torch/nn/modules/module.py\u001b[0m in \u001b[0;36m_call_impl\u001b[0;34m(self, *args, **kwargs)\u001b[0m\n\u001b[1;32m   1499\u001b[0m                 \u001b[0;32mor\u001b[0m \u001b[0m_global_backward_pre_hooks\u001b[0m \u001b[0;32mor\u001b[0m \u001b[0m_global_backward_hooks\u001b[0m\u001b[0;34m\u001b[0m\u001b[0;34m\u001b[0m\u001b[0m\n\u001b[1;32m   1500\u001b[0m                 or _global_forward_hooks or _global_forward_pre_hooks):\n\u001b[0;32m-> 1501\u001b[0;31m             \u001b[0;32mreturn\u001b[0m \u001b[0mforward_call\u001b[0m\u001b[0;34m(\u001b[0m\u001b[0;34m*\u001b[0m\u001b[0margs\u001b[0m\u001b[0;34m,\u001b[0m \u001b[0;34m**\u001b[0m\u001b[0mkwargs\u001b[0m\u001b[0;34m)\u001b[0m\u001b[0;34m\u001b[0m\u001b[0;34m\u001b[0m\u001b[0m\n\u001b[0m\u001b[1;32m   1502\u001b[0m         \u001b[0;31m# Do not call functions when jit is used\u001b[0m\u001b[0;34m\u001b[0m\u001b[0;34m\u001b[0m\u001b[0m\n\u001b[1;32m   1503\u001b[0m         \u001b[0mfull_backward_hooks\u001b[0m\u001b[0;34m,\u001b[0m \u001b[0mnon_full_backward_hooks\u001b[0m \u001b[0;34m=\u001b[0m \u001b[0;34m[\u001b[0m\u001b[0;34m]\u001b[0m\u001b[0;34m,\u001b[0m \u001b[0;34m[\u001b[0m\u001b[0;34m]\u001b[0m\u001b[0;34m\u001b[0m\u001b[0;34m\u001b[0m\u001b[0m\n",
            "\u001b[0;32m/usr/local/lib/python3.10/dist-packages/torch/nn/modules/activation.py\u001b[0m in \u001b[0;36mforward\u001b[0;34m(self, query, key, value, key_padding_mask, need_weights, attn_mask, average_attn_weights, is_causal)\u001b[0m\n\u001b[1;32m   1203\u001b[0m                 is_causal=is_causal)\n\u001b[1;32m   1204\u001b[0m         \u001b[0;32melse\u001b[0m\u001b[0;34m:\u001b[0m\u001b[0;34m\u001b[0m\u001b[0;34m\u001b[0m\u001b[0m\n\u001b[0;32m-> 1205\u001b[0;31m             attn_output, attn_output_weights = F.multi_head_attention_forward(\n\u001b[0m\u001b[1;32m   1206\u001b[0m                 \u001b[0mquery\u001b[0m\u001b[0;34m,\u001b[0m \u001b[0mkey\u001b[0m\u001b[0;34m,\u001b[0m \u001b[0mvalue\u001b[0m\u001b[0;34m,\u001b[0m \u001b[0mself\u001b[0m\u001b[0;34m.\u001b[0m\u001b[0membed_dim\u001b[0m\u001b[0;34m,\u001b[0m \u001b[0mself\u001b[0m\u001b[0;34m.\u001b[0m\u001b[0mnum_heads\u001b[0m\u001b[0;34m,\u001b[0m\u001b[0;34m\u001b[0m\u001b[0;34m\u001b[0m\u001b[0m\n\u001b[1;32m   1207\u001b[0m                 \u001b[0mself\u001b[0m\u001b[0;34m.\u001b[0m\u001b[0min_proj_weight\u001b[0m\u001b[0;34m,\u001b[0m \u001b[0mself\u001b[0m\u001b[0;34m.\u001b[0m\u001b[0min_proj_bias\u001b[0m\u001b[0;34m,\u001b[0m\u001b[0;34m\u001b[0m\u001b[0;34m\u001b[0m\u001b[0m\n",
            "\u001b[0;32m/usr/local/lib/python3.10/dist-packages/torch/nn/functional.py\u001b[0m in \u001b[0;36mmulti_head_attention_forward\u001b[0;34m(query, key, value, embed_dim_to_check, num_heads, in_proj_weight, in_proj_bias, bias_k, bias_v, add_zero_attn, dropout_p, out_proj_weight, out_proj_bias, training, key_padding_mask, need_weights, attn_mask, use_separate_proj_weight, q_proj_weight, k_proj_weight, v_proj_weight, static_k, static_v, average_attn_weights, is_causal)\u001b[0m\n\u001b[1;32m   5352\u001b[0m             \u001b[0mattn_output_weights\u001b[0m \u001b[0;34m=\u001b[0m \u001b[0mattn_output_weights\u001b[0m\u001b[0;34m.\u001b[0m\u001b[0mmean\u001b[0m\u001b[0;34m(\u001b[0m\u001b[0mdim\u001b[0m\u001b[0;34m=\u001b[0m\u001b[0;36m1\u001b[0m\u001b[0;34m)\u001b[0m\u001b[0;34m\u001b[0m\u001b[0;34m\u001b[0m\u001b[0m\n\u001b[1;32m   5353\u001b[0m \u001b[0;34m\u001b[0m\u001b[0m\n\u001b[0;32m-> 5354\u001b[0;31m         \u001b[0;32mif\u001b[0m \u001b[0;32mnot\u001b[0m \u001b[0mis_batched\u001b[0m\u001b[0;34m:\u001b[0m\u001b[0;34m\u001b[0m\u001b[0;34m\u001b[0m\u001b[0m\n\u001b[0m\u001b[1;32m   5355\u001b[0m             \u001b[0;31m# squeeze the output if input was unbatched\u001b[0m\u001b[0;34m\u001b[0m\u001b[0;34m\u001b[0m\u001b[0m\n\u001b[1;32m   5356\u001b[0m             \u001b[0mattn_output\u001b[0m \u001b[0;34m=\u001b[0m \u001b[0mattn_output\u001b[0m\u001b[0;34m.\u001b[0m\u001b[0msqueeze\u001b[0m\u001b[0;34m(\u001b[0m\u001b[0;36m1\u001b[0m\u001b[0;34m)\u001b[0m\u001b[0;34m\u001b[0m\u001b[0;34m\u001b[0m\u001b[0m\n",
            "\u001b[0;31mKeyboardInterrupt\u001b[0m: "
          ]
        }
      ],
      "source": [
        "train_config = {\n",
        "    'criterion': torch.nn.BCELoss(),\n",
        "    'optimizer': optim.AdamW(model.parameters(), lr=0.005),\n",
        "    'num_epochs': 300,\n",
        "    'metric': eval_metric,\n",
        "    'metric_name': 'AURPC',\n",
        "    'refresh_period': 10,\n",
        "    'batch_size': batch_size\n",
        "}\n",
        "\n",
        "train_model(model, train_loader, val_loader, train_config)"
      ]
    },
    {
      "cell_type": "code",
      "source": [
        "from sklearn.metrics import multilabel_confusion_matrix, f1_score\n",
        "_,_, val_outputs, val_targets = evaluate(model, val_loader, torch.nn.BCELoss(), eval_metric)\n",
        "best_thresholds = find_optimal_threshold(val_outputs, val_targets, f1_score)"
      ],
      "metadata": {
        "id": "yg8aq4gRnba5"
      },
      "execution_count": null,
      "outputs": []
    },
    {
      "cell_type": "markdown",
      "metadata": {
        "id": "DgunjZdvgAX_"
      },
      "source": [
        "# Evaluation"
      ]
    },
    {
      "cell_type": "code",
      "execution_count": null,
      "metadata": {
        "id": "Zgq8ZIE68_4g",
        "colab": {
          "base_uri": "https://localhost:8080/",
          "height": 248
        },
        "outputId": "b517c9e7-3530-46b6-c930-a39c4f36e39c"
      },
      "outputs": [
        {
          "output_type": "stream",
          "name": "stdout",
          "text": [
            "Test loss: 0.19335\n",
            "Test AURPC: 0.47129\n",
            "Test micro F1: 0.498\n"
          ]
        },
        {
          "output_type": "display_data",
          "data": {
            "text/plain": [
              "           spiritual  philosophy  love  inspirational  time  happiness  \\\n",
              "accuracy        0.89        0.92  0.87           0.73  0.95       0.97   \n",
              "precision       0.63        0.19  0.51           0.38  0.47       0.69   \n",
              "recall          0.66        0.26  0.65           0.71  0.56       0.52   \n",
              "f1              0.65        0.22  0.57           0.50  0.51       0.59   \n",
              "\n",
              "           success  hope  literary  science  truth  wisdom  knowledge  humor  \\\n",
              "accuracy      0.94  0.96      0.93     0.96   0.96    0.92       0.85   0.93   \n",
              "precision     0.41  0.66      0.56     0.60   0.50    0.65       0.39   0.26   \n",
              "recall        0.44  0.39      0.54     0.43   0.41    0.34       0.37   0.39   \n",
              "f1            0.42  0.49      0.55     0.50   0.45    0.45       0.38   0.32   \n",
              "\n",
              "           death  \n",
              "accuracy    0.95  \n",
              "precision   0.56  \n",
              "recall      0.58  \n",
              "f1          0.57  "
            ],
            "text/html": [
              "\n",
              "  <div id=\"df-c4aff74b-2b52-44d2-a724-3fb067d1e713\" class=\"colab-df-container\">\n",
              "    <div>\n",
              "<style scoped>\n",
              "    .dataframe tbody tr th:only-of-type {\n",
              "        vertical-align: middle;\n",
              "    }\n",
              "\n",
              "    .dataframe tbody tr th {\n",
              "        vertical-align: top;\n",
              "    }\n",
              "\n",
              "    .dataframe thead th {\n",
              "        text-align: right;\n",
              "    }\n",
              "</style>\n",
              "<table border=\"1\" class=\"dataframe\">\n",
              "  <thead>\n",
              "    <tr style=\"text-align: right;\">\n",
              "      <th></th>\n",
              "      <th>spiritual</th>\n",
              "      <th>philosophy</th>\n",
              "      <th>love</th>\n",
              "      <th>inspirational</th>\n",
              "      <th>time</th>\n",
              "      <th>happiness</th>\n",
              "      <th>success</th>\n",
              "      <th>hope</th>\n",
              "      <th>literary</th>\n",
              "      <th>science</th>\n",
              "      <th>truth</th>\n",
              "      <th>wisdom</th>\n",
              "      <th>knowledge</th>\n",
              "      <th>humor</th>\n",
              "      <th>death</th>\n",
              "    </tr>\n",
              "  </thead>\n",
              "  <tbody>\n",
              "    <tr>\n",
              "      <th>accuracy</th>\n",
              "      <td>0.89</td>\n",
              "      <td>0.92</td>\n",
              "      <td>0.87</td>\n",
              "      <td>0.73</td>\n",
              "      <td>0.95</td>\n",
              "      <td>0.97</td>\n",
              "      <td>0.94</td>\n",
              "      <td>0.96</td>\n",
              "      <td>0.93</td>\n",
              "      <td>0.96</td>\n",
              "      <td>0.96</td>\n",
              "      <td>0.92</td>\n",
              "      <td>0.85</td>\n",
              "      <td>0.93</td>\n",
              "      <td>0.95</td>\n",
              "    </tr>\n",
              "    <tr>\n",
              "      <th>precision</th>\n",
              "      <td>0.63</td>\n",
              "      <td>0.19</td>\n",
              "      <td>0.51</td>\n",
              "      <td>0.38</td>\n",
              "      <td>0.47</td>\n",
              "      <td>0.69</td>\n",
              "      <td>0.41</td>\n",
              "      <td>0.66</td>\n",
              "      <td>0.56</td>\n",
              "      <td>0.60</td>\n",
              "      <td>0.50</td>\n",
              "      <td>0.65</td>\n",
              "      <td>0.39</td>\n",
              "      <td>0.26</td>\n",
              "      <td>0.56</td>\n",
              "    </tr>\n",
              "    <tr>\n",
              "      <th>recall</th>\n",
              "      <td>0.66</td>\n",
              "      <td>0.26</td>\n",
              "      <td>0.65</td>\n",
              "      <td>0.71</td>\n",
              "      <td>0.56</td>\n",
              "      <td>0.52</td>\n",
              "      <td>0.44</td>\n",
              "      <td>0.39</td>\n",
              "      <td>0.54</td>\n",
              "      <td>0.43</td>\n",
              "      <td>0.41</td>\n",
              "      <td>0.34</td>\n",
              "      <td>0.37</td>\n",
              "      <td>0.39</td>\n",
              "      <td>0.58</td>\n",
              "    </tr>\n",
              "    <tr>\n",
              "      <th>f1</th>\n",
              "      <td>0.65</td>\n",
              "      <td>0.22</td>\n",
              "      <td>0.57</td>\n",
              "      <td>0.50</td>\n",
              "      <td>0.51</td>\n",
              "      <td>0.59</td>\n",
              "      <td>0.42</td>\n",
              "      <td>0.49</td>\n",
              "      <td>0.55</td>\n",
              "      <td>0.50</td>\n",
              "      <td>0.45</td>\n",
              "      <td>0.45</td>\n",
              "      <td>0.38</td>\n",
              "      <td>0.32</td>\n",
              "      <td>0.57</td>\n",
              "    </tr>\n",
              "  </tbody>\n",
              "</table>\n",
              "</div>\n",
              "    <div class=\"colab-df-buttons\">\n",
              "\n",
              "  <div class=\"colab-df-container\">\n",
              "    <button class=\"colab-df-convert\" onclick=\"convertToInteractive('df-c4aff74b-2b52-44d2-a724-3fb067d1e713')\"\n",
              "            title=\"Convert this dataframe to an interactive table.\"\n",
              "            style=\"display:none;\">\n",
              "\n",
              "  <svg xmlns=\"http://www.w3.org/2000/svg\" height=\"24px\" viewBox=\"0 -960 960 960\">\n",
              "    <path d=\"M120-120v-720h720v720H120Zm60-500h600v-160H180v160Zm220 220h160v-160H400v160Zm0 220h160v-160H400v160ZM180-400h160v-160H180v160Zm440 0h160v-160H620v160ZM180-180h160v-160H180v160Zm440 0h160v-160H620v160Z\"/>\n",
              "  </svg>\n",
              "    </button>\n",
              "\n",
              "  <style>\n",
              "    .colab-df-container {\n",
              "      display:flex;\n",
              "      gap: 12px;\n",
              "    }\n",
              "\n",
              "    .colab-df-convert {\n",
              "      background-color: #E8F0FE;\n",
              "      border: none;\n",
              "      border-radius: 50%;\n",
              "      cursor: pointer;\n",
              "      display: none;\n",
              "      fill: #1967D2;\n",
              "      height: 32px;\n",
              "      padding: 0 0 0 0;\n",
              "      width: 32px;\n",
              "    }\n",
              "\n",
              "    .colab-df-convert:hover {\n",
              "      background-color: #E2EBFA;\n",
              "      box-shadow: 0px 1px 2px rgba(60, 64, 67, 0.3), 0px 1px 3px 1px rgba(60, 64, 67, 0.15);\n",
              "      fill: #174EA6;\n",
              "    }\n",
              "\n",
              "    .colab-df-buttons div {\n",
              "      margin-bottom: 4px;\n",
              "    }\n",
              "\n",
              "    [theme=dark] .colab-df-convert {\n",
              "      background-color: #3B4455;\n",
              "      fill: #D2E3FC;\n",
              "    }\n",
              "\n",
              "    [theme=dark] .colab-df-convert:hover {\n",
              "      background-color: #434B5C;\n",
              "      box-shadow: 0px 1px 3px 1px rgba(0, 0, 0, 0.15);\n",
              "      filter: drop-shadow(0px 1px 2px rgba(0, 0, 0, 0.3));\n",
              "      fill: #FFFFFF;\n",
              "    }\n",
              "  </style>\n",
              "\n",
              "    <script>\n",
              "      const buttonEl =\n",
              "        document.querySelector('#df-c4aff74b-2b52-44d2-a724-3fb067d1e713 button.colab-df-convert');\n",
              "      buttonEl.style.display =\n",
              "        google.colab.kernel.accessAllowed ? 'block' : 'none';\n",
              "\n",
              "      async function convertToInteractive(key) {\n",
              "        const element = document.querySelector('#df-c4aff74b-2b52-44d2-a724-3fb067d1e713');\n",
              "        const dataTable =\n",
              "          await google.colab.kernel.invokeFunction('convertToInteractive',\n",
              "                                                    [key], {});\n",
              "        if (!dataTable) return;\n",
              "\n",
              "        const docLinkHtml = 'Like what you see? Visit the ' +\n",
              "          '<a target=\"_blank\" href=https://colab.research.google.com/notebooks/data_table.ipynb>data table notebook</a>'\n",
              "          + ' to learn more about interactive tables.';\n",
              "        element.innerHTML = '';\n",
              "        dataTable['output_type'] = 'display_data';\n",
              "        await google.colab.output.renderOutput(dataTable, element);\n",
              "        const docLink = document.createElement('div');\n",
              "        docLink.innerHTML = docLinkHtml;\n",
              "        element.appendChild(docLink);\n",
              "      }\n",
              "    </script>\n",
              "  </div>\n",
              "\n",
              "\n",
              "<div id=\"df-c28e03ee-35e9-429a-ba47-ba4abd22071e\">\n",
              "  <button class=\"colab-df-quickchart\" onclick=\"quickchart('df-c28e03ee-35e9-429a-ba47-ba4abd22071e')\"\n",
              "            title=\"Suggest charts.\"\n",
              "            style=\"display:none;\">\n",
              "\n",
              "<svg xmlns=\"http://www.w3.org/2000/svg\" height=\"24px\"viewBox=\"0 0 24 24\"\n",
              "     width=\"24px\">\n",
              "    <g>\n",
              "        <path d=\"M19 3H5c-1.1 0-2 .9-2 2v14c0 1.1.9 2 2 2h14c1.1 0 2-.9 2-2V5c0-1.1-.9-2-2-2zM9 17H7v-7h2v7zm4 0h-2V7h2v10zm4 0h-2v-4h2v4z\"/>\n",
              "    </g>\n",
              "</svg>\n",
              "  </button>\n",
              "\n",
              "<style>\n",
              "  .colab-df-quickchart {\n",
              "    background-color: #E8F0FE;\n",
              "    border: none;\n",
              "    border-radius: 50%;\n",
              "    cursor: pointer;\n",
              "    display: none;\n",
              "    fill: #1967D2;\n",
              "    height: 32px;\n",
              "    padding: 0 0 0 0;\n",
              "    width: 32px;\n",
              "  }\n",
              "\n",
              "  .colab-df-quickchart:hover {\n",
              "    background-color: #E2EBFA;\n",
              "    box-shadow: 0px 1px 2px rgba(60, 64, 67, 0.3), 0px 1px 3px 1px rgba(60, 64, 67, 0.15);\n",
              "    fill: #174EA6;\n",
              "  }\n",
              "\n",
              "  [theme=dark] .colab-df-quickchart {\n",
              "    background-color: #3B4455;\n",
              "    fill: #D2E3FC;\n",
              "  }\n",
              "\n",
              "  [theme=dark] .colab-df-quickchart:hover {\n",
              "    background-color: #434B5C;\n",
              "    box-shadow: 0px 1px 3px 1px rgba(0, 0, 0, 0.15);\n",
              "    filter: drop-shadow(0px 1px 2px rgba(0, 0, 0, 0.3));\n",
              "    fill: #FFFFFF;\n",
              "  }\n",
              "</style>\n",
              "\n",
              "  <script>\n",
              "    async function quickchart(key) {\n",
              "      const charts = await google.colab.kernel.invokeFunction(\n",
              "          'suggestCharts', [key], {});\n",
              "    }\n",
              "    (() => {\n",
              "      let quickchartButtonEl =\n",
              "        document.querySelector('#df-c28e03ee-35e9-429a-ba47-ba4abd22071e button');\n",
              "      quickchartButtonEl.style.display =\n",
              "        google.colab.kernel.accessAllowed ? 'block' : 'none';\n",
              "    })();\n",
              "  </script>\n",
              "</div>\n",
              "    </div>\n",
              "  </div>\n"
            ]
          },
          "metadata": {}
        }
      ],
      "source": [
        "from sklearn.metrics import multilabel_confusion_matrix, f1_score\n",
        "from functools import partial\n",
        "\n",
        "micro_f1 = partial(f1_score, average='micro')\n",
        "\n",
        "test_loss, test_metric, outputs, targets =  evaluate(model, test_loader, torch.nn.BCELoss(), eval_metric)\n",
        "print(f\"Test loss: {test_loss:.5f}\")\n",
        "print(f\"Test {train_config['metric_name']}: {test_metric:.5f}\")\n",
        "\n",
        "y_pred = prob_to_onehot(outputs.cpu().numpy(), best_thresholds)\n",
        "y_true = targets.cpu().numpy()\n",
        "\n",
        "confusion_matrix = multilabel_confusion_matrix(y_true, y_pred)\n",
        "\n",
        "metrics = { 'accuracy', 'precision', 'recall', 'f1'}\n",
        "print(f\"Test micro F1: {micro_f1(y_true, y_pred):.3f}\")\n",
        "\n",
        "metrics_per_index = dict()\n",
        "\n",
        "for index, matrix in enumerate(confusion_matrix):\n",
        "  category = dataset.idx_to_category[index]\n",
        "  metrics_per_index[category] = dict()\n",
        "  TN, FP, FN, TP = matrix.ravel()\n",
        "  metrics_per_index[category]['accuracy'] = (TP + TN) /(TP + TN + FP + FN+ 1e-10)\n",
        "  metrics_per_index[category]['precision'] = TP / (TP + FP + 1e-10)\n",
        "  metrics_per_index[category]['recall'] = TP/ (TP + FN + 1e-10)\n",
        "  metrics_per_index[category]['f1'] = 2 * TP / (2*TP + FP +FN + 1e-10)\n",
        "\n",
        "\n",
        "\n",
        "metrics_dataframe = pd.DataFrame(metrics_per_index).round(2)\n",
        "display(metrics_dataframe)"
      ]
    },
    {
      "cell_type": "markdown",
      "metadata": {
        "id": "SAprRxGOgAX_"
      },
      "source": [
        "### Example"
      ]
    },
    {
      "cell_type": "code",
      "execution_count": null,
      "metadata": {
        "id": "Jig7q7J9gAX_",
        "colab": {
          "base_uri": "https://localhost:8080/"
        },
        "outputId": "abee6dc5-8050-4ddc-e33d-f6337a75f2e1"
      },
      "outputs": [
        {
          "output_type": "stream",
          "name": "stdout",
          "text": [
            " The quote 'I discovered life sometimes has a way of giving you what you need, but not in the form you expected.' \n",
            " is tagged as time, success\n"
          ]
        }
      ],
      "source": [
        "sample = \"I discovered life sometimes has a way of giving you what you need, but not in the form you expected.\"\n",
        "sampled_tokenized = tokenize(sample, embedder).unsqueeze(0)\n",
        "predictions = model(sampled_tokenized)\n",
        "print(f\" The quote '{sample}' \\n is tagged as {', '.join(topKPrediction(predictions,2)[0])}\")\n"
      ]
    },
    {
      "cell_type": "code",
      "execution_count": null,
      "metadata": {
        "id": "TdvgkQKvWIHf"
      },
      "outputs": [],
      "source": []
    }
  ],
  "metadata": {
    "accelerator": "GPU",
    "colab": {
      "collapsed_sections": [
        "Ik0vsEV-w4jp",
        "W66rM23xwrwI",
        "mP5WSL1mwwv5"
      ],
      "machine_shape": "hm",
      "toc_visible": true,
      "provenance": []
    },
    "kernelspec": {
      "display_name": "Python 3",
      "name": "python3"
    },
    "language_info": {
      "codemirror_mode": {
        "name": "ipython",
        "version": 3
      },
      "file_extension": ".py",
      "mimetype": "text/x-python",
      "name": "python",
      "nbconvert_exporter": "python",
      "pygments_lexer": "ipython3",
      "version": "3.10.10"
    }
  },
  "nbformat": 4,
  "nbformat_minor": 0
}