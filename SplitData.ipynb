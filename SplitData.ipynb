{
 "cells": [
  {
   "cell_type": "code",
   "execution_count": 31,
   "metadata": {
    "ExecuteTime": {
     "end_time": "2023-08-27T04:35:04.531824Z",
     "start_time": "2023-08-27T04:35:03.981999Z"
    },
    "id": "Y0l6EMvH1sct"
   },
   "outputs": [
    {
     "name": "stderr",
     "output_type": "stream",
     "text": [
      "[nltk_data] Downloading package punkt to /Users/vinhpham/nltk_data...\n",
      "[nltk_data]   Package punkt is already up-to-date!\n"
     ]
    }
   ],
   "source": [
    "from pathlib import Path\n",
    "import csv\n",
    "import glob\n",
    "import random\n",
    "import nltk\n",
    "import contractions\n",
    "from QuoteDataset import clean_quote\n",
    "from nltk.tokenize import word_tokenize\n",
    "\n",
    "nltk.download('punkt')\n",
    "\n",
    "path_to_data = Path('Data/CleanedData/')\n",
    "\n",
    "\n",
    "def write_to_csv(data, filename):\n",
    "    with open(filename, 'w', newline='') as csvfile:\n",
    "        fieldnames = ['text', 'categories']\n",
    "        writer = csv.DictWriter(csvfile, fieldnames=fieldnames)\n",
    "        writer.writeheader()\n",
    "        for quote, categories in data.items():\n",
    "            writer.writerow({'text': quote, 'categories': ';'.join(categories)})\n",
    "\n",
    "def split_data(data, train=0.8, val=0.1, test=0.1):\n",
    "    total = len(data)\n",
    "    train_count = int(total * train)\n",
    "    val_count = int(total * val)\n",
    "    test_count = total - train_count - val_count\n",
    "\n",
    "    items = list(data.items())\n",
    "    random.shuffle(items)\n",
    "    train_data = dict(items[:train_count])\n",
    "    val_data = dict(items[train_count:train_count + val_count])\n",
    "    test_data = dict(items[train_count + val_count:])\n",
    "    return train_data, val_data, test_data\n",
    "\n",
    "quote_dict = {}\n",
    "\n",
    "for filename in glob.glob(str(path_to_data / '*.txt')):\n",
    "    category = Path(filename).stem\n",
    "    with open(filename, 'r') as f:\n",
    "        lines = f.readlines()\n",
    "    for line in lines:\n",
    "        line = clean_quote(line)\n",
    "        if line in quote_dict:\n",
    "            quote_dict[line].append(category)\n",
    "        else:\n",
    "            quote_dict[line] = [category]\n",
    "\n",
    "train_ratio = 0.7\n",
    "val_ratio = 0.15\n",
    "test_ratio = 0.15\n",
    "\n",
    "train_data, val_data, test_data = split_data(quote_dict, train=train_ratio, val=val_ratio, test=test_ratio)\n",
    "\n",
    "write_to_csv(train_data, str(path_to_data / 'train_quotes.csv'))\n",
    "write_to_csv(val_data, str(path_to_data / 'val_quotes.csv'))\n",
    "write_to_csv(test_data, str(path_to_data / 'test_quotes.csv'))\n"
   ]
  },
  {
   "cell_type": "code",
   "execution_count": 32,
   "metadata": {
    "ExecuteTime": {
     "end_time": "2023-08-27T04:35:06.124337Z",
     "start_time": "2023-08-27T04:35:04.532548Z"
    },
    "colab": {
     "base_uri": "https://localhost:8080/"
    },
    "id": "8EVoXXvp3O8h",
    "outputId": "5364fa66-48c9-4799-9ca8-5d900ce3c553"
   },
   "outputs": [
    {
     "name": "stdout",
     "output_type": "stream",
     "text": [
      " total  train  val  test\n",
      " 63919  51135 6391  6393\n"
     ]
    }
   ],
   "source": [
    "summary = {\n",
    "    'total' : len(quote_dict),\n",
    "    'train' : len(train_data),\n",
    "    'val' : len(val_data),\n",
    "    'test' : len(test_data)\n",
    "}\n",
    "\n",
    "import pandas as pd\n",
    "\n",
    "print(pd.DataFrame(summary, index=[0]).to_string(index=False))"
   ]
  }
 ],
 "metadata": {
  "colab": {
   "provenance": []
  },
  "kernelspec": {
   "display_name": "Python 3 (ipykernel)",
   "language": "python",
   "name": "python3"
  },
  "language_info": {
   "codemirror_mode": {
    "name": "ipython",
    "version": 3
   },
   "file_extension": ".py",
   "mimetype": "text/x-python",
   "name": "python",
   "nbconvert_exporter": "python",
   "pygments_lexer": "ipython3",
   "version": "3.9.13"
  }
 },
 "nbformat": 4,
 "nbformat_minor": 0
}
