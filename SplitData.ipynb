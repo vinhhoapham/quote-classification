{
 "nbformat": 4,
 "nbformat_minor": 0,
 "metadata": {
  "colab": {
   "provenance": []
  },
  "kernelspec": {
   "name": "python3",
   "language": "python",
   "display_name": "Python 3 (ipykernel)"
  },
  "language_info": {
   "name": "python"
  }
 },
 "cells": [
  {
   "cell_type": "code",
   "execution_count": 8,
   "metadata": {
    "id": "Y0l6EMvH1sct",
    "ExecuteTime": {
     "end_time": "2023-08-27T03:04:03.381485Z",
     "start_time": "2023-08-27T03:04:02.796322Z"
    }
   },
   "outputs": [],
   "source": [
    "from pathlib import Path\n",
    "import csv\n",
    "import glob\n",
    "import random\n",
    "\n",
    "path_to_data = Path('Data/CleanedData/')\n",
    "\n",
    "def write_to_csv(data, filename):\n",
    "    with open(filename, 'w', newline='') as csvfile:\n",
    "        fieldnames = ['text', 'categories']\n",
    "        writer = csv.DictWriter(csvfile, fieldnames=fieldnames)\n",
    "        writer.writeheader()\n",
    "        for quote, categories in data.items():\n",
    "            writer.writerow({'text': quote, 'categories': ';'.join(categories)})\n",
    "\n",
    "def split_data(data, train=0.7, val=0.15, test=0.15):\n",
    "    total = len(data)\n",
    "    train_count = int(total * train)\n",
    "    val_count = int(total * val)\n",
    "    test_count = total - train_count - val_count\n",
    "\n",
    "    items = list(data.items())\n",
    "    random.shuffle(items)\n",
    "    train_data = dict(items[:train_count])\n",
    "    val_data = dict(items[train_count:train_count + val_count])\n",
    "    test_data = dict(items[train_count + val_count:])\n",
    "    return train_data, val_data, test_data\n",
    "\n",
    "quote_dict = {}\n",
    "\n",
    "for filename in glob.glob(str(path_to_data / '*.txt')):\n",
    "    category = Path(filename).stem\n",
    "    with open(filename, 'r') as f:\n",
    "        lines = f.readlines()\n",
    "    for line in lines:\n",
    "        line = line.strip().replace(\"“\", \"\").replace(\"”\", \"\")\n",
    "        if line in quote_dict:\n",
    "            quote_dict[line].append(category)\n",
    "        else:\n",
    "            quote_dict[line] = [category]\n",
    "\n",
    "train_ratio = 0.8\n",
    "val_ratio = 0.1\n",
    "test_ratio = 0.1\n",
    "\n",
    "train_data, val_data, test_data = split_data(quote_dict, train=train_ratio, val=val_ratio, test=test_ratio)\n",
    "\n",
    "write_to_csv(train_data, str(path_to_data / 'train_quotes.csv'))\n",
    "write_to_csv(val_data, str(path_to_data / 'val_quotes.csv'))\n",
    "write_to_csv(test_data, str(path_to_data / 'test_quotes.csv'))\n"
   ]
  },
  {
   "cell_type": "code",
   "source": [
    "summary = {\n",
    "    'total' : len(quote_dict),\n",
    "    'train' : len(train_data),\n",
    "    'val' : len(val_data),\n",
    "    'test' : len(test_data)\n",
    "}\n",
    "\n",
    "import pandas as pd\n",
    "\n",
    "print(pd.DataFrame(summary, index=[0]).to_string(index=False))"
   ],
   "metadata": {
    "colab": {
     "base_uri": "https://localhost:8080/"
    },
    "id": "8EVoXXvp3O8h",
    "outputId": "5364fa66-48c9-4799-9ca8-5d900ce3c553",
    "ExecuteTime": {
     "end_time": "2023-08-27T03:04:03.386256Z",
     "start_time": "2023-08-27T03:04:03.383920Z"
    }
   },
   "execution_count": 9,
   "outputs": [
    {
     "name": "stdout",
     "output_type": "stream",
     "text": [
      " total  train  val  test\n",
      " 63927  51141 6392  6394\n"
     ]
    }
   ]
  }
 ]
}
