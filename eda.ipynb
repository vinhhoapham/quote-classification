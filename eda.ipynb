{
 "cells": [
  {
   "cell_type": "code",
   "execution_count": 21,
   "outputs": [],
   "source": [
    "from QuoteDataset import QuotesDataset\n",
    "import pandas as pd"
   ],
   "metadata": {
    "collapsed": false,
    "ExecuteTime": {
     "end_time": "2023-08-27T03:20:03.783923Z",
     "start_time": "2023-08-27T03:20:03.775750Z"
    }
   }
  },
  {
   "cell_type": "code",
   "execution_count": 22,
   "outputs": [],
   "source": [
    "path_to_data = \"Data/CleanedData/\"\n",
    "train_df = QuotesDataset(path_to_data + \"train_quotes.csv\").data\n",
    "val_df = QuotesDataset(path_to_data + \"val_quotes.csv\").data\n",
    "test_df = QuotesDataset(path_to_data + \"test_quotes.csv\").data"
   ],
   "metadata": {
    "collapsed": false,
    "ExecuteTime": {
     "end_time": "2023-08-27T03:20:04.003287Z",
     "start_time": "2023-08-27T03:20:03.779974Z"
    }
   }
  },
  {
   "cell_type": "code",
   "execution_count": 29,
   "outputs": [
    {
     "ename": "TypeError",
     "evalue": "unhashable type: 'list'",
     "output_type": "error",
     "traceback": [
      "\u001B[0;31m---------------------------------------------------------------------------\u001B[0m",
      "\u001B[0;31mTypeError\u001B[0m                                 Traceback (most recent call last)",
      "Cell \u001B[0;32mIn[29], line 1\u001B[0m\n\u001B[0;32m----> 1\u001B[0m unique_categories \u001B[38;5;241m=\u001B[39m \u001B[38;5;28mset\u001B[39m(\u001B[43mtrain_df\u001B[49m\u001B[43m[\u001B[49m\u001B[38;5;124;43m'\u001B[39;49m\u001B[38;5;124;43mcategories\u001B[39;49m\u001B[38;5;124;43m'\u001B[39;49m\u001B[43m]\u001B[49m\u001B[38;5;241;43m.\u001B[39;49m\u001B[43munique\u001B[49m\u001B[43m(\u001B[49m\u001B[43m)\u001B[49m\u001B[38;5;241m.\u001B[39mtolist() \u001B[38;5;241m+\u001B[39m val_df[\u001B[38;5;124m'\u001B[39m\u001B[38;5;124mcategories\u001B[39m\u001B[38;5;124m'\u001B[39m]\u001B[38;5;241m.\u001B[39munique()\u001B[38;5;241m.\u001B[39mtolist() \u001B[38;5;241m+\u001B[39m test_df[\u001B[38;5;124m'\u001B[39m\u001B[38;5;124mcategories\u001B[39m\u001B[38;5;124m'\u001B[39m]\u001B[38;5;241m.\u001B[39munique()\u001B[38;5;241m.\u001B[39mtolist())\n",
      "File \u001B[0;32m/opt/homebrew/lib/python3.11/site-packages/pandas/core/series.py:2194\u001B[0m, in \u001B[0;36mSeries.unique\u001B[0;34m(self)\u001B[0m\n\u001B[1;32m   2131\u001B[0m \u001B[38;5;28;01mdef\u001B[39;00m \u001B[38;5;21munique\u001B[39m(\u001B[38;5;28mself\u001B[39m) \u001B[38;5;241m-\u001B[39m\u001B[38;5;241m>\u001B[39m ArrayLike:  \u001B[38;5;66;03m# pylint: disable=useless-parent-delegation\u001B[39;00m\n\u001B[1;32m   2132\u001B[0m \u001B[38;5;250m    \u001B[39m\u001B[38;5;124;03m\"\"\"\u001B[39;00m\n\u001B[1;32m   2133\u001B[0m \u001B[38;5;124;03m    Return unique values of Series object.\u001B[39;00m\n\u001B[1;32m   2134\u001B[0m \n\u001B[0;32m   (...)\u001B[0m\n\u001B[1;32m   2192\u001B[0m \u001B[38;5;124;03m    Categories (3, object): ['a' < 'b' < 'c']\u001B[39;00m\n\u001B[1;32m   2193\u001B[0m \u001B[38;5;124;03m    \"\"\"\u001B[39;00m\n\u001B[0;32m-> 2194\u001B[0m     \u001B[38;5;28;01mreturn\u001B[39;00m \u001B[38;5;28;43msuper\u001B[39;49m\u001B[43m(\u001B[49m\u001B[43m)\u001B[49m\u001B[38;5;241;43m.\u001B[39;49m\u001B[43munique\u001B[49m\u001B[43m(\u001B[49m\u001B[43m)\u001B[49m\n",
      "File \u001B[0;32m/opt/homebrew/lib/python3.11/site-packages/pandas/core/base.py:1030\u001B[0m, in \u001B[0;36mIndexOpsMixin.unique\u001B[0;34m(self)\u001B[0m\n\u001B[1;32m   1028\u001B[0m     result \u001B[38;5;241m=\u001B[39m values\u001B[38;5;241m.\u001B[39munique()\n\u001B[1;32m   1029\u001B[0m \u001B[38;5;28;01melse\u001B[39;00m:\n\u001B[0;32m-> 1030\u001B[0m     result \u001B[38;5;241m=\u001B[39m \u001B[43malgorithms\u001B[49m\u001B[38;5;241;43m.\u001B[39;49m\u001B[43munique1d\u001B[49m\u001B[43m(\u001B[49m\u001B[43mvalues\u001B[49m\u001B[43m)\u001B[49m\n\u001B[1;32m   1031\u001B[0m \u001B[38;5;28;01mreturn\u001B[39;00m result\n",
      "File \u001B[0;32m/opt/homebrew/lib/python3.11/site-packages/pandas/core/algorithms.py:390\u001B[0m, in \u001B[0;36munique\u001B[0;34m(values)\u001B[0m\n\u001B[1;32m    296\u001B[0m \u001B[38;5;28;01mdef\u001B[39;00m \u001B[38;5;21munique\u001B[39m(values):\n\u001B[1;32m    297\u001B[0m \u001B[38;5;250m    \u001B[39m\u001B[38;5;124;03m\"\"\"\u001B[39;00m\n\u001B[1;32m    298\u001B[0m \u001B[38;5;124;03m    Return unique values based on a hash table.\u001B[39;00m\n\u001B[1;32m    299\u001B[0m \n\u001B[0;32m   (...)\u001B[0m\n\u001B[1;32m    388\u001B[0m \u001B[38;5;124;03m    array([('a', 'b'), ('b', 'a'), ('a', 'c')], dtype=object)\u001B[39;00m\n\u001B[1;32m    389\u001B[0m \u001B[38;5;124;03m    \"\"\"\u001B[39;00m\n\u001B[0;32m--> 390\u001B[0m     \u001B[38;5;28;01mreturn\u001B[39;00m \u001B[43munique_with_mask\u001B[49m\u001B[43m(\u001B[49m\u001B[43mvalues\u001B[49m\u001B[43m)\u001B[49m\n",
      "File \u001B[0;32m/opt/homebrew/lib/python3.11/site-packages/pandas/core/algorithms.py:429\u001B[0m, in \u001B[0;36munique_with_mask\u001B[0;34m(values, mask)\u001B[0m\n\u001B[1;32m    427\u001B[0m table \u001B[38;5;241m=\u001B[39m hashtable(\u001B[38;5;28mlen\u001B[39m(values))\n\u001B[1;32m    428\u001B[0m \u001B[38;5;28;01mif\u001B[39;00m mask \u001B[38;5;129;01mis\u001B[39;00m \u001B[38;5;28;01mNone\u001B[39;00m:\n\u001B[0;32m--> 429\u001B[0m     uniques \u001B[38;5;241m=\u001B[39m \u001B[43mtable\u001B[49m\u001B[38;5;241;43m.\u001B[39;49m\u001B[43munique\u001B[49m\u001B[43m(\u001B[49m\u001B[43mvalues\u001B[49m\u001B[43m)\u001B[49m\n\u001B[1;32m    430\u001B[0m     uniques \u001B[38;5;241m=\u001B[39m _reconstruct_data(uniques, original\u001B[38;5;241m.\u001B[39mdtype, original)\n\u001B[1;32m    431\u001B[0m     \u001B[38;5;28;01mreturn\u001B[39;00m uniques\n",
      "File \u001B[0;32mpandas/_libs/hashtable_class_helper.pxi:7247\u001B[0m, in \u001B[0;36mpandas._libs.hashtable.PyObjectHashTable.unique\u001B[0;34m()\u001B[0m\n",
      "File \u001B[0;32mpandas/_libs/hashtable_class_helper.pxi:7194\u001B[0m, in \u001B[0;36mpandas._libs.hashtable.PyObjectHashTable._unique\u001B[0;34m()\u001B[0m\n",
      "\u001B[0;31mTypeError\u001B[0m: unhashable type: 'list'"
     ]
    }
   ],
   "source": [
    "unique_categories = QuotesDataset(path_to_data + \"train_quotes.csv\").data"
   ],
   "metadata": {
    "collapsed": false,
    "ExecuteTime": {
     "end_time": "2023-08-27T03:26:14.856731Z",
     "start_time": "2023-08-27T03:26:14.735842Z"
    }
   }
  },
  {
   "cell_type": "code",
   "execution_count": 23,
   "outputs": [],
   "source": [
    "def categories_seperated(dataframe):\n",
    "    dataframe['categories'] = dataframe['categories'].apply(lambda x: x.split(';'))\n",
    "    return dataframe"
   ],
   "metadata": {
    "collapsed": false,
    "ExecuteTime": {
     "end_time": "2023-08-27T03:20:04.005765Z",
     "start_time": "2023-08-27T03:20:04.003703Z"
    }
   }
  },
  {
   "cell_type": "code",
   "execution_count": null,
   "outputs": [],
   "source": [
    "def count_categories(dataframe):\n",
    "    categories = {}\n",
    "    for index, row in dataframe.iterrows():\n",
    "        for category in row['categories']:\n",
    "            if category in categories:\n",
    "                categories[category] += 1\n",
    "            else:\n",
    "                categories[category] = 1\n",
    "    return categories"
   ],
   "metadata": {
    "collapsed": false
   }
  },
  {
   "cell_type": "code",
   "execution_count": 24,
   "outputs": [],
   "source": [
    "train_df = categories_seperated(train_df)\n",
    "val_df = categories_seperated(val_df)\n",
    "test_df = categories_seperated(test_df)\n"
   ],
   "metadata": {
    "collapsed": false,
    "ExecuteTime": {
     "end_time": "2023-08-27T03:20:04.085016Z",
     "start_time": "2023-08-27T03:20:04.083440Z"
    }
   }
  },
  {
   "cell_type": "code",
   "execution_count": 27,
   "outputs": [],
   "source": [
    "def length_by_categories(dataframe):\n",
    "    lengths = {}"
   ],
   "metadata": {
    "collapsed": false,
    "ExecuteTime": {
     "end_time": "2023-08-27T03:21:21.506624Z",
     "start_time": "2023-08-27T03:21:21.481034Z"
    }
   }
  },
  {
   "cell_type": "code",
   "execution_count": 28,
   "outputs": [
    {
     "data": {
      "text/plain": "                                                    text     categories\n0      If you find it hard to laugh at yourself, I wo...          humor\n1      Stand at the top of a cliff and jump off and b...  inspirational\n1      Stand at the top of a cliff and jump off and b...       literary\n2      Happiness was never important. The problem is ...      happiness\n3      Now, what I call faith in this case is like so...      spiritual\n...                                                  ...            ...\n51136  Ba’t hindi ikaw? I damn love you, Coreen. Hind...           love\n51137                      Love, and you shall be loved.           love\n51138  You might be looking for reasons but there are...           love\n51139  The way of Jesus cannot be imposed or mapped —...      spiritual\n51140  Those who contemplate the beauty of the earth ...  inspirational\n\n[61126 rows x 2 columns]",
      "text/html": "<div>\n<style scoped>\n    .dataframe tbody tr th:only-of-type {\n        vertical-align: middle;\n    }\n\n    .dataframe tbody tr th {\n        vertical-align: top;\n    }\n\n    .dataframe thead th {\n        text-align: right;\n    }\n</style>\n<table border=\"1\" class=\"dataframe\">\n  <thead>\n    <tr style=\"text-align: right;\">\n      <th></th>\n      <th>text</th>\n      <th>categories</th>\n    </tr>\n  </thead>\n  <tbody>\n    <tr>\n      <th>0</th>\n      <td>If you find it hard to laugh at yourself, I wo...</td>\n      <td>humor</td>\n    </tr>\n    <tr>\n      <th>1</th>\n      <td>Stand at the top of a cliff and jump off and b...</td>\n      <td>inspirational</td>\n    </tr>\n    <tr>\n      <th>1</th>\n      <td>Stand at the top of a cliff and jump off and b...</td>\n      <td>literary</td>\n    </tr>\n    <tr>\n      <th>2</th>\n      <td>Happiness was never important. The problem is ...</td>\n      <td>happiness</td>\n    </tr>\n    <tr>\n      <th>3</th>\n      <td>Now, what I call faith in this case is like so...</td>\n      <td>spiritual</td>\n    </tr>\n    <tr>\n      <th>...</th>\n      <td>...</td>\n      <td>...</td>\n    </tr>\n    <tr>\n      <th>51136</th>\n      <td>Ba’t hindi ikaw? I damn love you, Coreen. Hind...</td>\n      <td>love</td>\n    </tr>\n    <tr>\n      <th>51137</th>\n      <td>Love, and you shall be loved.</td>\n      <td>love</td>\n    </tr>\n    <tr>\n      <th>51138</th>\n      <td>You might be looking for reasons but there are...</td>\n      <td>love</td>\n    </tr>\n    <tr>\n      <th>51139</th>\n      <td>The way of Jesus cannot be imposed or mapped —...</td>\n      <td>spiritual</td>\n    </tr>\n    <tr>\n      <th>51140</th>\n      <td>Those who contemplate the beauty of the earth ...</td>\n      <td>inspirational</td>\n    </tr>\n  </tbody>\n</table>\n<p>61126 rows × 2 columns</p>\n</div>"
     },
     "execution_count": 28,
     "metadata": {},
     "output_type": "execute_result"
    }
   ],
   "source": [],
   "metadata": {
    "collapsed": false,
    "ExecuteTime": {
     "end_time": "2023-08-27T03:21:29.869010Z",
     "start_time": "2023-08-27T03:21:29.863446Z"
    }
   }
  },
  {
   "cell_type": "code",
   "execution_count": null,
   "outputs": [],
   "source": [],
   "metadata": {
    "collapsed": false
   }
  }
 ],
 "metadata": {
  "kernelspec": {
   "display_name": "Python 3",
   "language": "python",
   "name": "python3"
  },
  "language_info": {
   "codemirror_mode": {
    "name": "ipython",
    "version": 2
   },
   "file_extension": ".py",
   "mimetype": "text/x-python",
   "name": "python",
   "nbconvert_exporter": "python",
   "pygments_lexer": "ipython2",
   "version": "2.7.6"
  }
 },
 "nbformat": 4,
 "nbformat_minor": 0
}
