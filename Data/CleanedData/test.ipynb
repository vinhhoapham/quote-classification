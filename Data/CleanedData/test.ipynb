{
 "cells": [
  {
   "cell_type": "code",
   "execution_count": null,
   "metadata": {},
   "outputs": [],
   "source": [
    "from transformers import MarianMTModel, MarianTokenizer\n",
    "\n",
    "def back_translate(text, model_name_from, model_name_to):\n",
    "    # Tokenizers\n",
    "    tokenizer_from = MarianTokenizer.from_pretrained(model_name_from)\n",
    "    tokenizer_to = MarianTokenizer.from_pretrained(model_name_to)\n",
    "\n",
    "    # Models\n",
    "    model_from = MarianMTModel.from_pretrained(model_name_from)\n",
    "    model_to = MarianMTModel.from_pretrained(model_name_to)\n",
    "\n",
    "    # Translate to the target language\n",
    "    translated = model_from.generate(**tokenizer_from.prepare_seq2seq_batch([text], return_tensors=\"pt\"))\n",
    "    translated_text = [tokenizer_from.decode(t, skip_special_tokens=True) for t in translated][0]\n",
    "\n",
    "    # Translate back to the original language\n",
    "    back_translated = model_to.generate(**tokenizer_to.prepare_seq2seq_batch([translated_text], return_tensors=\"pt\"))\n",
    "    back_translated_text = [tokenizer_to.decode(t, skip_special_tokens=True) for t in back_translated][0]\n",
    "\n",
    "    return back_translated_text\n",
    "\n",
    "def process_file(file_name):\n",
    "    model_name_from = \"Helsinki-NLP/opus-mt-en-fr\"\n",
    "    model_name_to = \"Helsinki-NLP/opus-mt-fr-en\"\n",
    "\n",
    "    with open(file_name, 'r') as file:\n",
    "        quotes = file.readlines()\n",
    "\n",
    "    back_translated_quotes = [back_translate(quote, model_name_from, model_name_to) for quote in quotes]\n",
    "\n",
    "    with open(f\"back_translated_{file_name}\", 'w') as file:\n",
    "        file.writelines(back_translated_quotes)\n",
    "\n",
    "file_name = \"science.txt\"\n",
    "process_file(file_name)\n"
   ]
  }
 ],
 "metadata": {
  "language_info": {
   "name": "python"
  },
  "orig_nbformat": 4
 },
 "nbformat": 4,
 "nbformat_minor": 2
}
